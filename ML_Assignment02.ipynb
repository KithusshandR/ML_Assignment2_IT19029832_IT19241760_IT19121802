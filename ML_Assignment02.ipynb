{
  "nbformat": 4,
  "nbformat_minor": 0,
  "metadata": {
    "colab": {
      "name": "ML_Assignment02.ipynb",
      "provenance": [],
      "authorship_tag": "ABX9TyPEczzPay5Lxpeh0KhHm9nb",
      "include_colab_link": true
    },
    "kernelspec": {
      "name": "python3",
      "display_name": "Python 3"
    },
    "language_info": {
      "name": "python"
    }
  },
  "cells": [
    {
      "cell_type": "markdown",
      "metadata": {
        "id": "view-in-github",
        "colab_type": "text"
      },
      "source": [
        "<a href=\"https://colab.research.google.com/github/KithusshandR/ML_Assignment2_IT19029832_IT19241760_IT19121802/blob/Development/ML_Assignment02.ipynb\" target=\"_parent\"><img src=\"https://colab.research.google.com/assets/colab-badge.svg\" alt=\"Open In Colab\"/></a>"
      ]
    },
    {
      "cell_type": "markdown",
      "source": [
        "# Import Necessary Libraries\n",
        "\n",
        "The nltk library to proecess the text and the pandas library to load the data are loaded."
      ],
      "metadata": {
        "id": "1XQEnq6qEqVj"
      }
    },
    {
      "cell_type": "code",
      "execution_count": null,
      "metadata": {
        "id": "GXcL-kvC-b7J"
      },
      "outputs": [],
      "source": [
        "#load the libraries\n",
        "import nltk\n",
        "import pandas as pd"
      ]
    },
    {
      "cell_type": "markdown",
      "source": [
        "# Load Data\n",
        "\n",
        "Load the dataset "
      ],
      "metadata": {
        "id": "yKmm2tKqE4Eb"
      }
    },
    {
      "cell_type": "code",
      "source": [
        "#load data from the github repository \n",
        "#pre-request the repository needs to be public\n",
        "# dataset = pd.read_csv('https://github.com/KithusshandR/ML_Assignment2_IT19029832_IT19241760_IT19121802/blob/main/website_classification.csv') \n",
        "\n",
        "#load data from google drive\n",
        "from google.colab import drive\n",
        "drive.mount('/content/gdrive')\n",
        "\n",
        "dataset = pd.read_csv('/content/gdrive/MyDrive/content/website_classification.csv')\n",
        "\n",
        "dataset.head()"
      ],
      "metadata": {
        "colab": {
          "base_uri": "https://localhost:8080/",
          "height": 225
        },
        "id": "2SXdwBtTAGpG",
        "outputId": "62dbe8d3-f6e7-4159-a8f9-b41f4c29ebc9"
      },
      "execution_count": 108,
      "outputs": [
        {
          "output_type": "stream",
          "name": "stdout",
          "text": [
            "Drive already mounted at /content/gdrive; to attempt to forcibly remount, call drive.mount(\"/content/gdrive\", force_remount=True).\n"
          ]
        },
        {
          "output_type": "execute_result",
          "data": {
            "text/plain": [
              "   Unnamed: 0                                        website_url  \\\n",
              "0           0     https://www.booking.com/index.html?aid=1743217   \n",
              "1           1                   https://travelsites.com/expedia/   \n",
              "2           2               https://travelsites.com/tripadvisor/   \n",
              "3           3              https://www.momondo.in/?ispredir=true   \n",
              "4           4  https://www.ebookers.com/?AFFCID=EBOOKERS-UK.n...   \n",
              "\n",
              "                                cleaned_website_text Category  \n",
              "0  official site good hotel accommodation big sav...   Travel  \n",
              "1  expedia hotel book sites like use vacation wor...   Travel  \n",
              "2  tripadvisor hotel book sites like previously d...   Travel  \n",
              "3  cheap flights search compare flights momondo f...   Travel  \n",
              "4  bot create free account create free account si...   Travel  "
            ],
            "text/html": [
              "\n",
              "  <div id=\"df-ed2a9fc3-d0d1-48e9-baf3-62b6f64e33e6\">\n",
              "    <div class=\"colab-df-container\">\n",
              "      <div>\n",
              "<style scoped>\n",
              "    .dataframe tbody tr th:only-of-type {\n",
              "        vertical-align: middle;\n",
              "    }\n",
              "\n",
              "    .dataframe tbody tr th {\n",
              "        vertical-align: top;\n",
              "    }\n",
              "\n",
              "    .dataframe thead th {\n",
              "        text-align: right;\n",
              "    }\n",
              "</style>\n",
              "<table border=\"1\" class=\"dataframe\">\n",
              "  <thead>\n",
              "    <tr style=\"text-align: right;\">\n",
              "      <th></th>\n",
              "      <th>Unnamed: 0</th>\n",
              "      <th>website_url</th>\n",
              "      <th>cleaned_website_text</th>\n",
              "      <th>Category</th>\n",
              "    </tr>\n",
              "  </thead>\n",
              "  <tbody>\n",
              "    <tr>\n",
              "      <th>0</th>\n",
              "      <td>0</td>\n",
              "      <td>https://www.booking.com/index.html?aid=1743217</td>\n",
              "      <td>official site good hotel accommodation big sav...</td>\n",
              "      <td>Travel</td>\n",
              "    </tr>\n",
              "    <tr>\n",
              "      <th>1</th>\n",
              "      <td>1</td>\n",
              "      <td>https://travelsites.com/expedia/</td>\n",
              "      <td>expedia hotel book sites like use vacation wor...</td>\n",
              "      <td>Travel</td>\n",
              "    </tr>\n",
              "    <tr>\n",
              "      <th>2</th>\n",
              "      <td>2</td>\n",
              "      <td>https://travelsites.com/tripadvisor/</td>\n",
              "      <td>tripadvisor hotel book sites like previously d...</td>\n",
              "      <td>Travel</td>\n",
              "    </tr>\n",
              "    <tr>\n",
              "      <th>3</th>\n",
              "      <td>3</td>\n",
              "      <td>https://www.momondo.in/?ispredir=true</td>\n",
              "      <td>cheap flights search compare flights momondo f...</td>\n",
              "      <td>Travel</td>\n",
              "    </tr>\n",
              "    <tr>\n",
              "      <th>4</th>\n",
              "      <td>4</td>\n",
              "      <td>https://www.ebookers.com/?AFFCID=EBOOKERS-UK.n...</td>\n",
              "      <td>bot create free account create free account si...</td>\n",
              "      <td>Travel</td>\n",
              "    </tr>\n",
              "  </tbody>\n",
              "</table>\n",
              "</div>\n",
              "      <button class=\"colab-df-convert\" onclick=\"convertToInteractive('df-ed2a9fc3-d0d1-48e9-baf3-62b6f64e33e6')\"\n",
              "              title=\"Convert this dataframe to an interactive table.\"\n",
              "              style=\"display:none;\">\n",
              "        \n",
              "  <svg xmlns=\"http://www.w3.org/2000/svg\" height=\"24px\"viewBox=\"0 0 24 24\"\n",
              "       width=\"24px\">\n",
              "    <path d=\"M0 0h24v24H0V0z\" fill=\"none\"/>\n",
              "    <path d=\"M18.56 5.44l.94 2.06.94-2.06 2.06-.94-2.06-.94-.94-2.06-.94 2.06-2.06.94zm-11 1L8.5 8.5l.94-2.06 2.06-.94-2.06-.94L8.5 2.5l-.94 2.06-2.06.94zm10 10l.94 2.06.94-2.06 2.06-.94-2.06-.94-.94-2.06-.94 2.06-2.06.94z\"/><path d=\"M17.41 7.96l-1.37-1.37c-.4-.4-.92-.59-1.43-.59-.52 0-1.04.2-1.43.59L10.3 9.45l-7.72 7.72c-.78.78-.78 2.05 0 2.83L4 21.41c.39.39.9.59 1.41.59.51 0 1.02-.2 1.41-.59l7.78-7.78 2.81-2.81c.8-.78.8-2.07 0-2.86zM5.41 20L4 18.59l7.72-7.72 1.47 1.35L5.41 20z\"/>\n",
              "  </svg>\n",
              "      </button>\n",
              "      \n",
              "  <style>\n",
              "    .colab-df-container {\n",
              "      display:flex;\n",
              "      flex-wrap:wrap;\n",
              "      gap: 12px;\n",
              "    }\n",
              "\n",
              "    .colab-df-convert {\n",
              "      background-color: #E8F0FE;\n",
              "      border: none;\n",
              "      border-radius: 50%;\n",
              "      cursor: pointer;\n",
              "      display: none;\n",
              "      fill: #1967D2;\n",
              "      height: 32px;\n",
              "      padding: 0 0 0 0;\n",
              "      width: 32px;\n",
              "    }\n",
              "\n",
              "    .colab-df-convert:hover {\n",
              "      background-color: #E2EBFA;\n",
              "      box-shadow: 0px 1px 2px rgba(60, 64, 67, 0.3), 0px 1px 3px 1px rgba(60, 64, 67, 0.15);\n",
              "      fill: #174EA6;\n",
              "    }\n",
              "\n",
              "    [theme=dark] .colab-df-convert {\n",
              "      background-color: #3B4455;\n",
              "      fill: #D2E3FC;\n",
              "    }\n",
              "\n",
              "    [theme=dark] .colab-df-convert:hover {\n",
              "      background-color: #434B5C;\n",
              "      box-shadow: 0px 1px 3px 1px rgba(0, 0, 0, 0.15);\n",
              "      filter: drop-shadow(0px 1px 2px rgba(0, 0, 0, 0.3));\n",
              "      fill: #FFFFFF;\n",
              "    }\n",
              "  </style>\n",
              "\n",
              "      <script>\n",
              "        const buttonEl =\n",
              "          document.querySelector('#df-ed2a9fc3-d0d1-48e9-baf3-62b6f64e33e6 button.colab-df-convert');\n",
              "        buttonEl.style.display =\n",
              "          google.colab.kernel.accessAllowed ? 'block' : 'none';\n",
              "\n",
              "        async function convertToInteractive(key) {\n",
              "          const element = document.querySelector('#df-ed2a9fc3-d0d1-48e9-baf3-62b6f64e33e6');\n",
              "          const dataTable =\n",
              "            await google.colab.kernel.invokeFunction('convertToInteractive',\n",
              "                                                     [key], {});\n",
              "          if (!dataTable) return;\n",
              "\n",
              "          const docLinkHtml = 'Like what you see? Visit the ' +\n",
              "            '<a target=\"_blank\" href=https://colab.research.google.com/notebooks/data_table.ipynb>data table notebook</a>'\n",
              "            + ' to learn more about interactive tables.';\n",
              "          element.innerHTML = '';\n",
              "          dataTable['output_type'] = 'display_data';\n",
              "          await google.colab.output.renderOutput(dataTable, element);\n",
              "          const docLink = document.createElement('div');\n",
              "          docLink.innerHTML = docLinkHtml;\n",
              "          element.appendChild(docLink);\n",
              "        }\n",
              "      </script>\n",
              "    </div>\n",
              "  </div>\n",
              "  "
            ]
          },
          "metadata": {},
          "execution_count": 108
        }
      ]
    },
    {
      "cell_type": "markdown",
      "source": [
        "# Analysis the loaded Dataset\n",
        "\n",
        "The loaded dataset is analysised to find the information about the dataset like No of row and no of columns"
      ],
      "metadata": {
        "id": "TktHObkmFB28"
      }
    },
    {
      "cell_type": "code",
      "source": [
        "#find the dataset number of rows and columns\n",
        "dataset.shape"
      ],
      "metadata": {
        "colab": {
          "base_uri": "https://localhost:8080/"
        },
        "id": "PLuR2akXBEj7",
        "outputId": "f2094aa0-2e78-46f5-8d08-f652d929ba50"
      },
      "execution_count": null,
      "outputs": [
        {
          "output_type": "execute_result",
          "data": {
            "text/plain": [
              "(1408, 4)"
            ]
          },
          "metadata": {},
          "execution_count": 89
        }
      ]
    },
    {
      "cell_type": "code",
      "source": [
        "#print the dataset columns names\n",
        "dataset.columns"
      ],
      "metadata": {
        "colab": {
          "base_uri": "https://localhost:8080/"
        },
        "id": "Uui385jNBe9O",
        "outputId": "b6979828-aa3c-4d65-e99e-dcb3ef1453d7"
      },
      "execution_count": null,
      "outputs": [
        {
          "output_type": "execute_result",
          "data": {
            "text/plain": [
              "Index(['Unnamed: 0', 'website_url', 'cleaned_website_text', 'Category'], dtype='object')"
            ]
          },
          "metadata": {},
          "execution_count": 90
        }
      ]
    },
    {
      "cell_type": "code",
      "source": [
        "#drop the first column (ID column)\n",
        "dataset = dataset.drop('Unnamed: 0', axis=1)\n",
        "dataset = dataset.drop('website_url', axis=1)\n",
        "dataset.head()"
      ],
      "metadata": {
        "colab": {
          "base_uri": "https://localhost:8080/",
          "height": 206
        },
        "id": "E_CJv527Bjtz",
        "outputId": "128d9db0-21b3-4657-ee16-205f0fa23b2d"
      },
      "execution_count": 109,
      "outputs": [
        {
          "output_type": "execute_result",
          "data": {
            "text/plain": [
              "                                cleaned_website_text Category\n",
              "0  official site good hotel accommodation big sav...   Travel\n",
              "1  expedia hotel book sites like use vacation wor...   Travel\n",
              "2  tripadvisor hotel book sites like previously d...   Travel\n",
              "3  cheap flights search compare flights momondo f...   Travel\n",
              "4  bot create free account create free account si...   Travel"
            ],
            "text/html": [
              "\n",
              "  <div id=\"df-cfac035a-8f1e-49c2-95fb-a7fb6dda2f0d\">\n",
              "    <div class=\"colab-df-container\">\n",
              "      <div>\n",
              "<style scoped>\n",
              "    .dataframe tbody tr th:only-of-type {\n",
              "        vertical-align: middle;\n",
              "    }\n",
              "\n",
              "    .dataframe tbody tr th {\n",
              "        vertical-align: top;\n",
              "    }\n",
              "\n",
              "    .dataframe thead th {\n",
              "        text-align: right;\n",
              "    }\n",
              "</style>\n",
              "<table border=\"1\" class=\"dataframe\">\n",
              "  <thead>\n",
              "    <tr style=\"text-align: right;\">\n",
              "      <th></th>\n",
              "      <th>cleaned_website_text</th>\n",
              "      <th>Category</th>\n",
              "    </tr>\n",
              "  </thead>\n",
              "  <tbody>\n",
              "    <tr>\n",
              "      <th>0</th>\n",
              "      <td>official site good hotel accommodation big sav...</td>\n",
              "      <td>Travel</td>\n",
              "    </tr>\n",
              "    <tr>\n",
              "      <th>1</th>\n",
              "      <td>expedia hotel book sites like use vacation wor...</td>\n",
              "      <td>Travel</td>\n",
              "    </tr>\n",
              "    <tr>\n",
              "      <th>2</th>\n",
              "      <td>tripadvisor hotel book sites like previously d...</td>\n",
              "      <td>Travel</td>\n",
              "    </tr>\n",
              "    <tr>\n",
              "      <th>3</th>\n",
              "      <td>cheap flights search compare flights momondo f...</td>\n",
              "      <td>Travel</td>\n",
              "    </tr>\n",
              "    <tr>\n",
              "      <th>4</th>\n",
              "      <td>bot create free account create free account si...</td>\n",
              "      <td>Travel</td>\n",
              "    </tr>\n",
              "  </tbody>\n",
              "</table>\n",
              "</div>\n",
              "      <button class=\"colab-df-convert\" onclick=\"convertToInteractive('df-cfac035a-8f1e-49c2-95fb-a7fb6dda2f0d')\"\n",
              "              title=\"Convert this dataframe to an interactive table.\"\n",
              "              style=\"display:none;\">\n",
              "        \n",
              "  <svg xmlns=\"http://www.w3.org/2000/svg\" height=\"24px\"viewBox=\"0 0 24 24\"\n",
              "       width=\"24px\">\n",
              "    <path d=\"M0 0h24v24H0V0z\" fill=\"none\"/>\n",
              "    <path d=\"M18.56 5.44l.94 2.06.94-2.06 2.06-.94-2.06-.94-.94-2.06-.94 2.06-2.06.94zm-11 1L8.5 8.5l.94-2.06 2.06-.94-2.06-.94L8.5 2.5l-.94 2.06-2.06.94zm10 10l.94 2.06.94-2.06 2.06-.94-2.06-.94-.94-2.06-.94 2.06-2.06.94z\"/><path d=\"M17.41 7.96l-1.37-1.37c-.4-.4-.92-.59-1.43-.59-.52 0-1.04.2-1.43.59L10.3 9.45l-7.72 7.72c-.78.78-.78 2.05 0 2.83L4 21.41c.39.39.9.59 1.41.59.51 0 1.02-.2 1.41-.59l7.78-7.78 2.81-2.81c.8-.78.8-2.07 0-2.86zM5.41 20L4 18.59l7.72-7.72 1.47 1.35L5.41 20z\"/>\n",
              "  </svg>\n",
              "      </button>\n",
              "      \n",
              "  <style>\n",
              "    .colab-df-container {\n",
              "      display:flex;\n",
              "      flex-wrap:wrap;\n",
              "      gap: 12px;\n",
              "    }\n",
              "\n",
              "    .colab-df-convert {\n",
              "      background-color: #E8F0FE;\n",
              "      border: none;\n",
              "      border-radius: 50%;\n",
              "      cursor: pointer;\n",
              "      display: none;\n",
              "      fill: #1967D2;\n",
              "      height: 32px;\n",
              "      padding: 0 0 0 0;\n",
              "      width: 32px;\n",
              "    }\n",
              "\n",
              "    .colab-df-convert:hover {\n",
              "      background-color: #E2EBFA;\n",
              "      box-shadow: 0px 1px 2px rgba(60, 64, 67, 0.3), 0px 1px 3px 1px rgba(60, 64, 67, 0.15);\n",
              "      fill: #174EA6;\n",
              "    }\n",
              "\n",
              "    [theme=dark] .colab-df-convert {\n",
              "      background-color: #3B4455;\n",
              "      fill: #D2E3FC;\n",
              "    }\n",
              "\n",
              "    [theme=dark] .colab-df-convert:hover {\n",
              "      background-color: #434B5C;\n",
              "      box-shadow: 0px 1px 3px 1px rgba(0, 0, 0, 0.15);\n",
              "      filter: drop-shadow(0px 1px 2px rgba(0, 0, 0, 0.3));\n",
              "      fill: #FFFFFF;\n",
              "    }\n",
              "  </style>\n",
              "\n",
              "      <script>\n",
              "        const buttonEl =\n",
              "          document.querySelector('#df-cfac035a-8f1e-49c2-95fb-a7fb6dda2f0d button.colab-df-convert');\n",
              "        buttonEl.style.display =\n",
              "          google.colab.kernel.accessAllowed ? 'block' : 'none';\n",
              "\n",
              "        async function convertToInteractive(key) {\n",
              "          const element = document.querySelector('#df-cfac035a-8f1e-49c2-95fb-a7fb6dda2f0d');\n",
              "          const dataTable =\n",
              "            await google.colab.kernel.invokeFunction('convertToInteractive',\n",
              "                                                     [key], {});\n",
              "          if (!dataTable) return;\n",
              "\n",
              "          const docLinkHtml = 'Like what you see? Visit the ' +\n",
              "            '<a target=\"_blank\" href=https://colab.research.google.com/notebooks/data_table.ipynb>data table notebook</a>'\n",
              "            + ' to learn more about interactive tables.';\n",
              "          element.innerHTML = '';\n",
              "          dataTable['output_type'] = 'display_data';\n",
              "          await google.colab.output.renderOutput(dataTable, element);\n",
              "          const docLink = document.createElement('div');\n",
              "          docLink.innerHTML = docLinkHtml;\n",
              "          element.appendChild(docLink);\n",
              "        }\n",
              "      </script>\n",
              "    </div>\n",
              "  </div>\n",
              "  "
            ]
          },
          "metadata": {},
          "execution_count": 109
        }
      ]
    },
    {
      "cell_type": "code",
      "source": [
        "#find the datatype\n",
        "dataset.dtypes"
      ],
      "metadata": {
        "colab": {
          "base_uri": "https://localhost:8080/"
        },
        "id": "Q40rCY3dDSdr",
        "outputId": "04c772c8-13a3-4ae1-8295-4d91dcb4805b"
      },
      "execution_count": 110,
      "outputs": [
        {
          "output_type": "execute_result",
          "data": {
            "text/plain": [
              "cleaned_website_text    object\n",
              "Category                object\n",
              "dtype: object"
            ]
          },
          "metadata": {},
          "execution_count": 110
        }
      ]
    },
    {
      "cell_type": "code",
      "source": [
        "dataset.Category.unique()"
      ],
      "metadata": {
        "id": "B8oDQR47Gezl",
        "outputId": "9a2b66d2-d62f-42db-df7d-56497a722fce",
        "colab": {
          "base_uri": "https://localhost:8080/"
        }
      },
      "execution_count": 136,
      "outputs": [
        {
          "output_type": "execute_result",
          "data": {
            "text/plain": [
              "array(['Travel', 'Social Networking and Messaging', 'News',\n",
              "       'Streaming Services', 'Sports', 'Photography',\n",
              "       'Law and Government', 'Health and Fitness', 'Games', 'E-Commerce',\n",
              "       'Forums', 'Food', 'Education', 'Computers and Technology',\n",
              "       'Business/Corporate', 'Adult'], dtype=object)"
            ]
          },
          "metadata": {},
          "execution_count": 136
        }
      ]
    },
    {
      "cell_type": "code",
      "source": [
        "#find the fact about the dataset e.g: Datatype and count\n",
        "dataset.info()"
      ],
      "metadata": {
        "colab": {
          "base_uri": "https://localhost:8080/"
        },
        "id": "JWKpL063DHdF",
        "outputId": "443b068c-ca58-404b-de1e-b7e20a0dcf5b"
      },
      "execution_count": 111,
      "outputs": [
        {
          "output_type": "stream",
          "name": "stdout",
          "text": [
            "<class 'pandas.core.frame.DataFrame'>\n",
            "RangeIndex: 1408 entries, 0 to 1407\n",
            "Data columns (total 2 columns):\n",
            " #   Column                Non-Null Count  Dtype \n",
            "---  ------                --------------  ----- \n",
            " 0   cleaned_website_text  1408 non-null   object\n",
            " 1   Category              1408 non-null   object\n",
            "dtypes: object(2)\n",
            "memory usage: 22.1+ KB\n"
          ]
        }
      ]
    },
    {
      "cell_type": "markdown",
      "source": [
        "# Data Preprocessing\n",
        "\n",
        "The Data preprocessing is used to clean the data like removeing the null values and duplicate values and prepare the dataset to train the machine learning model."
      ],
      "metadata": {
        "id": "-6dO9wO0FPnm"
      }
    },
    {
      "cell_type": "code",
      "source": [
        "from nltk.stem import WordNetLemmatizer\n",
        "from nltk.corpus import stopwords\n",
        "nltk.download('stopwords')\n",
        "nltk.download('punkt')\n",
        "nltk.download('wordnet')\n",
        "lemmartizer = WordNetLemmatizer()"
      ],
      "metadata": {
        "id": "skpVBnYHDbCy",
        "outputId": "a1a822c7-d5b4-4523-bc12-29fcbfe278b0",
        "colab": {
          "base_uri": "https://localhost:8080/"
        }
      },
      "execution_count": 112,
      "outputs": [
        {
          "output_type": "stream",
          "name": "stdout",
          "text": [
            "[nltk_data] Downloading package stopwords to /root/nltk_data...\n",
            "[nltk_data]   Package stopwords is already up-to-date!\n",
            "[nltk_data] Downloading package punkt to /root/nltk_data...\n",
            "[nltk_data]   Package punkt is already up-to-date!\n",
            "[nltk_data] Downloading package wordnet to /root/nltk_data...\n",
            "[nltk_data]   Package wordnet is already up-to-date!\n"
          ]
        }
      ]
    },
    {
      "cell_type": "code",
      "source": [
        "#create a function to tokenize the words and use lemmartizer to lemmatize the word\n",
        "def tokenize(text):\n",
        "  #lemmatize the words\n",
        "  text = text.lower()\n",
        "  text = lemmartizer.lemmatize(text)\n",
        "  #create the text into word tokens\n",
        "  tokens = nltk.word_tokenize(text)\n",
        "  return tokens"
      ],
      "metadata": {
        "id": "eHnsdxt5jHw9"
      },
      "execution_count": 130,
      "outputs": []
    },
    {
      "cell_type": "code",
      "source": [
        "#add some stopwords that needs to remove\n",
        "nltk_stop_words = set(stopwords.words('english'))\n",
        "nltk_stop_words.update([\"'d\", \"'ll\", \"'re\", \"'s\", \"'ve\", 'could', 'doe', 'ha', 'might', 'must', \"n't\", 'need', 'sha', 'wa', 'wo', 'would'])"
      ],
      "metadata": {
        "id": "fZnYEfR5j6gB"
      },
      "execution_count": 114,
      "outputs": []
    },
    {
      "cell_type": "code",
      "source": [
        "from sklearn.feature_extraction.text import CountVectorizer\n",
        "\n",
        "#use the count Vectorizer to vectorize the text.\n",
        "countvectorizer = CountVectorizer(min_df=1, tokenizer=tokenize, stop_words=nltk_stop_words)\n",
        "\n",
        "#create a dataframe\n",
        "dtm = pd.DataFrame(countvectorizer.fit_transform(dataset['cleaned_website_text']).toarray(),\n",
        "                                                 columns=countvectorizer.get_feature_names(), index=None)\n",
        "\n",
        "\n",
        "#check the dataframe\n",
        "dtm.head()"
      ],
      "metadata": {
        "colab": {
          "base_uri": "https://localhost:8080/",
          "height": 292
        },
        "id": "tPvjrpGJkDtd",
        "outputId": "94e09448-8c47-4d6e-9373-c80501a9189d"
      },
      "execution_count": 131,
      "outputs": [
        {
          "output_type": "stream",
          "name": "stderr",
          "text": [
            "/usr/local/lib/python3.7/dist-packages/sklearn/utils/deprecation.py:87: FutureWarning: Function get_feature_names is deprecated; get_feature_names is deprecated in 1.0 and will be removed in 1.2. Please use get_feature_names_out instead.\n",
            "  warnings.warn(msg, category=FutureWarning)\n"
          ]
        },
        {
          "output_type": "execute_result",
          "data": {
            "text/plain": [
              "   -pron-  007f  0084ff  00s  01b  01st  02000f  02001f  02005f  03rd  ...  \\\n",
              "0       0     0       0    0    0     0       0       0       0     0  ...   \n",
              "1       0     0       0    0    0     0       0       0       0     0  ...   \n",
              "2       0     0       0    0    0     0       0       0       0     0  ...   \n",
              "3       0     0       0    0    0     0       0       0       0     0  ...   \n",
              "4       0     0       0    0    0     0       0       0       0     0  ...   \n",
              "\n",
              "   카메라  한국  한국어  현미경용  𝐂  𝐅𝐎𝐑  𝐅𝐔𝐋𝐋𝐘  𝐋𝐎𝐀𝐃𝐄𝐃  𝐎𝐏𝐄𝐍  𝐓𝐀𝐊𝐄𝐀  \n",
              "0    0   0    1     0  0    0      0       0     0      0  \n",
              "1    0   0    0     0  0    0      0       0     0      0  \n",
              "2    0   0    0     0  0    0      0       0     0      0  \n",
              "3    0   0    0     0  0    0      0       0     0      0  \n",
              "4    0   0    0     0  0    0      0       0     0      0  \n",
              "\n",
              "[5 rows x 60061 columns]"
            ],
            "text/html": [
              "\n",
              "  <div id=\"df-0d5dbcb7-43ca-4dd2-8a74-cb43bac64abf\">\n",
              "    <div class=\"colab-df-container\">\n",
              "      <div>\n",
              "<style scoped>\n",
              "    .dataframe tbody tr th:only-of-type {\n",
              "        vertical-align: middle;\n",
              "    }\n",
              "\n",
              "    .dataframe tbody tr th {\n",
              "        vertical-align: top;\n",
              "    }\n",
              "\n",
              "    .dataframe thead th {\n",
              "        text-align: right;\n",
              "    }\n",
              "</style>\n",
              "<table border=\"1\" class=\"dataframe\">\n",
              "  <thead>\n",
              "    <tr style=\"text-align: right;\">\n",
              "      <th></th>\n",
              "      <th>-pron-</th>\n",
              "      <th>007f</th>\n",
              "      <th>0084ff</th>\n",
              "      <th>00s</th>\n",
              "      <th>01b</th>\n",
              "      <th>01st</th>\n",
              "      <th>02000f</th>\n",
              "      <th>02001f</th>\n",
              "      <th>02005f</th>\n",
              "      <th>03rd</th>\n",
              "      <th>...</th>\n",
              "      <th>카메라</th>\n",
              "      <th>한국</th>\n",
              "      <th>한국어</th>\n",
              "      <th>현미경용</th>\n",
              "      <th>𝐂</th>\n",
              "      <th>𝐅𝐎𝐑</th>\n",
              "      <th>𝐅𝐔𝐋𝐋𝐘</th>\n",
              "      <th>𝐋𝐎𝐀𝐃𝐄𝐃</th>\n",
              "      <th>𝐎𝐏𝐄𝐍</th>\n",
              "      <th>𝐓𝐀𝐊𝐄𝐀</th>\n",
              "    </tr>\n",
              "  </thead>\n",
              "  <tbody>\n",
              "    <tr>\n",
              "      <th>0</th>\n",
              "      <td>0</td>\n",
              "      <td>0</td>\n",
              "      <td>0</td>\n",
              "      <td>0</td>\n",
              "      <td>0</td>\n",
              "      <td>0</td>\n",
              "      <td>0</td>\n",
              "      <td>0</td>\n",
              "      <td>0</td>\n",
              "      <td>0</td>\n",
              "      <td>...</td>\n",
              "      <td>0</td>\n",
              "      <td>0</td>\n",
              "      <td>1</td>\n",
              "      <td>0</td>\n",
              "      <td>0</td>\n",
              "      <td>0</td>\n",
              "      <td>0</td>\n",
              "      <td>0</td>\n",
              "      <td>0</td>\n",
              "      <td>0</td>\n",
              "    </tr>\n",
              "    <tr>\n",
              "      <th>1</th>\n",
              "      <td>0</td>\n",
              "      <td>0</td>\n",
              "      <td>0</td>\n",
              "      <td>0</td>\n",
              "      <td>0</td>\n",
              "      <td>0</td>\n",
              "      <td>0</td>\n",
              "      <td>0</td>\n",
              "      <td>0</td>\n",
              "      <td>0</td>\n",
              "      <td>...</td>\n",
              "      <td>0</td>\n",
              "      <td>0</td>\n",
              "      <td>0</td>\n",
              "      <td>0</td>\n",
              "      <td>0</td>\n",
              "      <td>0</td>\n",
              "      <td>0</td>\n",
              "      <td>0</td>\n",
              "      <td>0</td>\n",
              "      <td>0</td>\n",
              "    </tr>\n",
              "    <tr>\n",
              "      <th>2</th>\n",
              "      <td>0</td>\n",
              "      <td>0</td>\n",
              "      <td>0</td>\n",
              "      <td>0</td>\n",
              "      <td>0</td>\n",
              "      <td>0</td>\n",
              "      <td>0</td>\n",
              "      <td>0</td>\n",
              "      <td>0</td>\n",
              "      <td>0</td>\n",
              "      <td>...</td>\n",
              "      <td>0</td>\n",
              "      <td>0</td>\n",
              "      <td>0</td>\n",
              "      <td>0</td>\n",
              "      <td>0</td>\n",
              "      <td>0</td>\n",
              "      <td>0</td>\n",
              "      <td>0</td>\n",
              "      <td>0</td>\n",
              "      <td>0</td>\n",
              "    </tr>\n",
              "    <tr>\n",
              "      <th>3</th>\n",
              "      <td>0</td>\n",
              "      <td>0</td>\n",
              "      <td>0</td>\n",
              "      <td>0</td>\n",
              "      <td>0</td>\n",
              "      <td>0</td>\n",
              "      <td>0</td>\n",
              "      <td>0</td>\n",
              "      <td>0</td>\n",
              "      <td>0</td>\n",
              "      <td>...</td>\n",
              "      <td>0</td>\n",
              "      <td>0</td>\n",
              "      <td>0</td>\n",
              "      <td>0</td>\n",
              "      <td>0</td>\n",
              "      <td>0</td>\n",
              "      <td>0</td>\n",
              "      <td>0</td>\n",
              "      <td>0</td>\n",
              "      <td>0</td>\n",
              "    </tr>\n",
              "    <tr>\n",
              "      <th>4</th>\n",
              "      <td>0</td>\n",
              "      <td>0</td>\n",
              "      <td>0</td>\n",
              "      <td>0</td>\n",
              "      <td>0</td>\n",
              "      <td>0</td>\n",
              "      <td>0</td>\n",
              "      <td>0</td>\n",
              "      <td>0</td>\n",
              "      <td>0</td>\n",
              "      <td>...</td>\n",
              "      <td>0</td>\n",
              "      <td>0</td>\n",
              "      <td>0</td>\n",
              "      <td>0</td>\n",
              "      <td>0</td>\n",
              "      <td>0</td>\n",
              "      <td>0</td>\n",
              "      <td>0</td>\n",
              "      <td>0</td>\n",
              "      <td>0</td>\n",
              "    </tr>\n",
              "  </tbody>\n",
              "</table>\n",
              "<p>5 rows × 60061 columns</p>\n",
              "</div>\n",
              "      <button class=\"colab-df-convert\" onclick=\"convertToInteractive('df-0d5dbcb7-43ca-4dd2-8a74-cb43bac64abf')\"\n",
              "              title=\"Convert this dataframe to an interactive table.\"\n",
              "              style=\"display:none;\">\n",
              "        \n",
              "  <svg xmlns=\"http://www.w3.org/2000/svg\" height=\"24px\"viewBox=\"0 0 24 24\"\n",
              "       width=\"24px\">\n",
              "    <path d=\"M0 0h24v24H0V0z\" fill=\"none\"/>\n",
              "    <path d=\"M18.56 5.44l.94 2.06.94-2.06 2.06-.94-2.06-.94-.94-2.06-.94 2.06-2.06.94zm-11 1L8.5 8.5l.94-2.06 2.06-.94-2.06-.94L8.5 2.5l-.94 2.06-2.06.94zm10 10l.94 2.06.94-2.06 2.06-.94-2.06-.94-.94-2.06-.94 2.06-2.06.94z\"/><path d=\"M17.41 7.96l-1.37-1.37c-.4-.4-.92-.59-1.43-.59-.52 0-1.04.2-1.43.59L10.3 9.45l-7.72 7.72c-.78.78-.78 2.05 0 2.83L4 21.41c.39.39.9.59 1.41.59.51 0 1.02-.2 1.41-.59l7.78-7.78 2.81-2.81c.8-.78.8-2.07 0-2.86zM5.41 20L4 18.59l7.72-7.72 1.47 1.35L5.41 20z\"/>\n",
              "  </svg>\n",
              "      </button>\n",
              "      \n",
              "  <style>\n",
              "    .colab-df-container {\n",
              "      display:flex;\n",
              "      flex-wrap:wrap;\n",
              "      gap: 12px;\n",
              "    }\n",
              "\n",
              "    .colab-df-convert {\n",
              "      background-color: #E8F0FE;\n",
              "      border: none;\n",
              "      border-radius: 50%;\n",
              "      cursor: pointer;\n",
              "      display: none;\n",
              "      fill: #1967D2;\n",
              "      height: 32px;\n",
              "      padding: 0 0 0 0;\n",
              "      width: 32px;\n",
              "    }\n",
              "\n",
              "    .colab-df-convert:hover {\n",
              "      background-color: #E2EBFA;\n",
              "      box-shadow: 0px 1px 2px rgba(60, 64, 67, 0.3), 0px 1px 3px 1px rgba(60, 64, 67, 0.15);\n",
              "      fill: #174EA6;\n",
              "    }\n",
              "\n",
              "    [theme=dark] .colab-df-convert {\n",
              "      background-color: #3B4455;\n",
              "      fill: #D2E3FC;\n",
              "    }\n",
              "\n",
              "    [theme=dark] .colab-df-convert:hover {\n",
              "      background-color: #434B5C;\n",
              "      box-shadow: 0px 1px 3px 1px rgba(0, 0, 0, 0.15);\n",
              "      filter: drop-shadow(0px 1px 2px rgba(0, 0, 0, 0.3));\n",
              "      fill: #FFFFFF;\n",
              "    }\n",
              "  </style>\n",
              "\n",
              "      <script>\n",
              "        const buttonEl =\n",
              "          document.querySelector('#df-0d5dbcb7-43ca-4dd2-8a74-cb43bac64abf button.colab-df-convert');\n",
              "        buttonEl.style.display =\n",
              "          google.colab.kernel.accessAllowed ? 'block' : 'none';\n",
              "\n",
              "        async function convertToInteractive(key) {\n",
              "          const element = document.querySelector('#df-0d5dbcb7-43ca-4dd2-8a74-cb43bac64abf');\n",
              "          const dataTable =\n",
              "            await google.colab.kernel.invokeFunction('convertToInteractive',\n",
              "                                                     [key], {});\n",
              "          if (!dataTable) return;\n",
              "\n",
              "          const docLinkHtml = 'Like what you see? Visit the ' +\n",
              "            '<a target=\"_blank\" href=https://colab.research.google.com/notebooks/data_table.ipynb>data table notebook</a>'\n",
              "            + ' to learn more about interactive tables.';\n",
              "          element.innerHTML = '';\n",
              "          dataTable['output_type'] = 'display_data';\n",
              "          await google.colab.output.renderOutput(dataTable, element);\n",
              "          const docLink = document.createElement('div');\n",
              "          docLink.innerHTML = docLinkHtml;\n",
              "          element.appendChild(docLink);\n",
              "        }\n",
              "      </script>\n",
              "    </div>\n",
              "  </div>\n",
              "  "
            ]
          },
          "metadata": {},
          "execution_count": 131
        }
      ]
    },
    {
      "cell_type": "code",
      "source": [
        "#print the dataframe row number anc column number\n",
        "dtm.shape"
      ],
      "metadata": {
        "colab": {
          "base_uri": "https://localhost:8080/"
        },
        "id": "Lzlncg4-kflx",
        "outputId": "1676bfcd-b67b-4170-e1da-ca7391d71542"
      },
      "execution_count": 116,
      "outputs": [
        {
          "output_type": "execute_result",
          "data": {
            "text/plain": [
              "(1408, 60061)"
            ]
          },
          "metadata": {},
          "execution_count": 116
        }
      ]
    },
    {
      "cell_type": "code",
      "source": [
        "#Use the Encoder to encoding the lable\n",
        "from sklearn import preprocessing\n",
        "\n",
        "le = preprocessing.LabelEncoder()\n",
        "lable = le.fit_transform(dataset.Category)"
      ],
      "metadata": {
        "id": "gmwkH9nKkg9X"
      },
      "execution_count": 117,
      "outputs": []
    },
    {
      "cell_type": "code",
      "source": [
        "#check the Categories that encoded\n",
        "print(lable)"
      ],
      "metadata": {
        "colab": {
          "base_uri": "https://localhost:8080/"
        },
        "id": "HvCw5ND_mH1d",
        "outputId": "be9d6f3f-fec8-4905-ac85-b9ca8e418005"
      },
      "execution_count": 118,
      "outputs": [
        {
          "output_type": "stream",
          "name": "stdout",
          "text": [
            "[15 15 15 ...  0  0  0]\n"
          ]
        }
      ]
    },
    {
      "cell_type": "code",
      "source": [
        "# train and test dataset split\n",
        "from sklearn.model_selection import train_test_split\n",
        "\n",
        "X_train, X_test, y_train, y_test = train_test_split(dtm, lable, \n",
        "                                     train_size = 0.7, \n",
        "                                     test_size = 0.3, \n",
        "                                     random_state = 100,\n",
        "                                     stratify = lable)"
      ],
      "metadata": {
        "id": "BguGd6WpmYp7"
      },
      "execution_count": 119,
      "outputs": []
    },
    {
      "cell_type": "code",
      "source": [
        "X_train"
      ],
      "metadata": {
        "colab": {
          "base_uri": "https://localhost:8080/",
          "height": 423
        },
        "id": "uzaTlO0MvI7e",
        "outputId": "a8992cfe-b200-4f54-fc91-6a588b1c25b4"
      },
      "execution_count": 120,
      "outputs": [
        {
          "output_type": "execute_result",
          "data": {
            "text/plain": [
              "      -pron-  007f  0084ff  00s  01b  01st  02000f  02001f  02005f  03rd  ...  \\\n",
              "71         0     0       0    0    0     0       0       0       0     0  ...   \n",
              "762        0     0       0    0    0     0       0       0       0     0  ...   \n",
              "1146       0     0       0    0    0     0       0       0       0     0  ...   \n",
              "710        0     0       0    0    0     0       0       0       0     0  ...   \n",
              "1352       0     0       0    0    0     0       0       0       0     0  ...   \n",
              "...      ...   ...     ...  ...  ...   ...     ...     ...     ...   ...  ...   \n",
              "1107       0     0       0    0    0     0       0       0       0     0  ...   \n",
              "115        0     0       0    0    0     0       0       0       0     0  ...   \n",
              "250        0     0       0    0    0     0       0       0       0     0  ...   \n",
              "254        0     0       0    0    0     0       0       0       0     0  ...   \n",
              "470        0     0       0    0    0     0       0       0       0     0  ...   \n",
              "\n",
              "      카메라  한국  한국어  현미경용  𝐂  𝐅𝐎𝐑  𝐅𝐔𝐋𝐋𝐘  𝐋𝐎𝐀𝐃𝐄𝐃  𝐎𝐏𝐄𝐍  𝐓𝐀𝐊𝐄𝐀  \n",
              "71      0   0    0     0  0    0      0       0     0      0  \n",
              "762     0   0    0     0  0    0      0       0     0      0  \n",
              "1146    0   0    0     0  0    0      0       0     0      0  \n",
              "710     0   0    0     0  0    0      0       0     0      0  \n",
              "1352    0   0    0     0  0    0      0       0     0      0  \n",
              "...   ...  ..  ...   ... ..  ...    ...     ...   ...    ...  \n",
              "1107    0   0    0     0  0    0      0       0     0      0  \n",
              "115     0   0    0     0  0    0      0       0     0      0  \n",
              "250     0   0    0     0  0    0      0       0     0      0  \n",
              "254     0   0    0     0  0    0      0       0     0      0  \n",
              "470     0   0    0     0  0    0      0       0     0      0  \n",
              "\n",
              "[985 rows x 60061 columns]"
            ],
            "text/html": [
              "\n",
              "  <div id=\"df-cc8eb2ec-e733-403e-9aa6-ba5a8a2b425b\">\n",
              "    <div class=\"colab-df-container\">\n",
              "      <div>\n",
              "<style scoped>\n",
              "    .dataframe tbody tr th:only-of-type {\n",
              "        vertical-align: middle;\n",
              "    }\n",
              "\n",
              "    .dataframe tbody tr th {\n",
              "        vertical-align: top;\n",
              "    }\n",
              "\n",
              "    .dataframe thead th {\n",
              "        text-align: right;\n",
              "    }\n",
              "</style>\n",
              "<table border=\"1\" class=\"dataframe\">\n",
              "  <thead>\n",
              "    <tr style=\"text-align: right;\">\n",
              "      <th></th>\n",
              "      <th>-pron-</th>\n",
              "      <th>007f</th>\n",
              "      <th>0084ff</th>\n",
              "      <th>00s</th>\n",
              "      <th>01b</th>\n",
              "      <th>01st</th>\n",
              "      <th>02000f</th>\n",
              "      <th>02001f</th>\n",
              "      <th>02005f</th>\n",
              "      <th>03rd</th>\n",
              "      <th>...</th>\n",
              "      <th>카메라</th>\n",
              "      <th>한국</th>\n",
              "      <th>한국어</th>\n",
              "      <th>현미경용</th>\n",
              "      <th>𝐂</th>\n",
              "      <th>𝐅𝐎𝐑</th>\n",
              "      <th>𝐅𝐔𝐋𝐋𝐘</th>\n",
              "      <th>𝐋𝐎𝐀𝐃𝐄𝐃</th>\n",
              "      <th>𝐎𝐏𝐄𝐍</th>\n",
              "      <th>𝐓𝐀𝐊𝐄𝐀</th>\n",
              "    </tr>\n",
              "  </thead>\n",
              "  <tbody>\n",
              "    <tr>\n",
              "      <th>71</th>\n",
              "      <td>0</td>\n",
              "      <td>0</td>\n",
              "      <td>0</td>\n",
              "      <td>0</td>\n",
              "      <td>0</td>\n",
              "      <td>0</td>\n",
              "      <td>0</td>\n",
              "      <td>0</td>\n",
              "      <td>0</td>\n",
              "      <td>0</td>\n",
              "      <td>...</td>\n",
              "      <td>0</td>\n",
              "      <td>0</td>\n",
              "      <td>0</td>\n",
              "      <td>0</td>\n",
              "      <td>0</td>\n",
              "      <td>0</td>\n",
              "      <td>0</td>\n",
              "      <td>0</td>\n",
              "      <td>0</td>\n",
              "      <td>0</td>\n",
              "    </tr>\n",
              "    <tr>\n",
              "      <th>762</th>\n",
              "      <td>0</td>\n",
              "      <td>0</td>\n",
              "      <td>0</td>\n",
              "      <td>0</td>\n",
              "      <td>0</td>\n",
              "      <td>0</td>\n",
              "      <td>0</td>\n",
              "      <td>0</td>\n",
              "      <td>0</td>\n",
              "      <td>0</td>\n",
              "      <td>...</td>\n",
              "      <td>0</td>\n",
              "      <td>0</td>\n",
              "      <td>0</td>\n",
              "      <td>0</td>\n",
              "      <td>0</td>\n",
              "      <td>0</td>\n",
              "      <td>0</td>\n",
              "      <td>0</td>\n",
              "      <td>0</td>\n",
              "      <td>0</td>\n",
              "    </tr>\n",
              "    <tr>\n",
              "      <th>1146</th>\n",
              "      <td>0</td>\n",
              "      <td>0</td>\n",
              "      <td>0</td>\n",
              "      <td>0</td>\n",
              "      <td>0</td>\n",
              "      <td>0</td>\n",
              "      <td>0</td>\n",
              "      <td>0</td>\n",
              "      <td>0</td>\n",
              "      <td>0</td>\n",
              "      <td>...</td>\n",
              "      <td>0</td>\n",
              "      <td>0</td>\n",
              "      <td>0</td>\n",
              "      <td>0</td>\n",
              "      <td>0</td>\n",
              "      <td>0</td>\n",
              "      <td>0</td>\n",
              "      <td>0</td>\n",
              "      <td>0</td>\n",
              "      <td>0</td>\n",
              "    </tr>\n",
              "    <tr>\n",
              "      <th>710</th>\n",
              "      <td>0</td>\n",
              "      <td>0</td>\n",
              "      <td>0</td>\n",
              "      <td>0</td>\n",
              "      <td>0</td>\n",
              "      <td>0</td>\n",
              "      <td>0</td>\n",
              "      <td>0</td>\n",
              "      <td>0</td>\n",
              "      <td>0</td>\n",
              "      <td>...</td>\n",
              "      <td>0</td>\n",
              "      <td>0</td>\n",
              "      <td>0</td>\n",
              "      <td>0</td>\n",
              "      <td>0</td>\n",
              "      <td>0</td>\n",
              "      <td>0</td>\n",
              "      <td>0</td>\n",
              "      <td>0</td>\n",
              "      <td>0</td>\n",
              "    </tr>\n",
              "    <tr>\n",
              "      <th>1352</th>\n",
              "      <td>0</td>\n",
              "      <td>0</td>\n",
              "      <td>0</td>\n",
              "      <td>0</td>\n",
              "      <td>0</td>\n",
              "      <td>0</td>\n",
              "      <td>0</td>\n",
              "      <td>0</td>\n",
              "      <td>0</td>\n",
              "      <td>0</td>\n",
              "      <td>...</td>\n",
              "      <td>0</td>\n",
              "      <td>0</td>\n",
              "      <td>0</td>\n",
              "      <td>0</td>\n",
              "      <td>0</td>\n",
              "      <td>0</td>\n",
              "      <td>0</td>\n",
              "      <td>0</td>\n",
              "      <td>0</td>\n",
              "      <td>0</td>\n",
              "    </tr>\n",
              "    <tr>\n",
              "      <th>...</th>\n",
              "      <td>...</td>\n",
              "      <td>...</td>\n",
              "      <td>...</td>\n",
              "      <td>...</td>\n",
              "      <td>...</td>\n",
              "      <td>...</td>\n",
              "      <td>...</td>\n",
              "      <td>...</td>\n",
              "      <td>...</td>\n",
              "      <td>...</td>\n",
              "      <td>...</td>\n",
              "      <td>...</td>\n",
              "      <td>...</td>\n",
              "      <td>...</td>\n",
              "      <td>...</td>\n",
              "      <td>...</td>\n",
              "      <td>...</td>\n",
              "      <td>...</td>\n",
              "      <td>...</td>\n",
              "      <td>...</td>\n",
              "      <td>...</td>\n",
              "    </tr>\n",
              "    <tr>\n",
              "      <th>1107</th>\n",
              "      <td>0</td>\n",
              "      <td>0</td>\n",
              "      <td>0</td>\n",
              "      <td>0</td>\n",
              "      <td>0</td>\n",
              "      <td>0</td>\n",
              "      <td>0</td>\n",
              "      <td>0</td>\n",
              "      <td>0</td>\n",
              "      <td>0</td>\n",
              "      <td>...</td>\n",
              "      <td>0</td>\n",
              "      <td>0</td>\n",
              "      <td>0</td>\n",
              "      <td>0</td>\n",
              "      <td>0</td>\n",
              "      <td>0</td>\n",
              "      <td>0</td>\n",
              "      <td>0</td>\n",
              "      <td>0</td>\n",
              "      <td>0</td>\n",
              "    </tr>\n",
              "    <tr>\n",
              "      <th>115</th>\n",
              "      <td>0</td>\n",
              "      <td>0</td>\n",
              "      <td>0</td>\n",
              "      <td>0</td>\n",
              "      <td>0</td>\n",
              "      <td>0</td>\n",
              "      <td>0</td>\n",
              "      <td>0</td>\n",
              "      <td>0</td>\n",
              "      <td>0</td>\n",
              "      <td>...</td>\n",
              "      <td>0</td>\n",
              "      <td>0</td>\n",
              "      <td>0</td>\n",
              "      <td>0</td>\n",
              "      <td>0</td>\n",
              "      <td>0</td>\n",
              "      <td>0</td>\n",
              "      <td>0</td>\n",
              "      <td>0</td>\n",
              "      <td>0</td>\n",
              "    </tr>\n",
              "    <tr>\n",
              "      <th>250</th>\n",
              "      <td>0</td>\n",
              "      <td>0</td>\n",
              "      <td>0</td>\n",
              "      <td>0</td>\n",
              "      <td>0</td>\n",
              "      <td>0</td>\n",
              "      <td>0</td>\n",
              "      <td>0</td>\n",
              "      <td>0</td>\n",
              "      <td>0</td>\n",
              "      <td>...</td>\n",
              "      <td>0</td>\n",
              "      <td>0</td>\n",
              "      <td>0</td>\n",
              "      <td>0</td>\n",
              "      <td>0</td>\n",
              "      <td>0</td>\n",
              "      <td>0</td>\n",
              "      <td>0</td>\n",
              "      <td>0</td>\n",
              "      <td>0</td>\n",
              "    </tr>\n",
              "    <tr>\n",
              "      <th>254</th>\n",
              "      <td>0</td>\n",
              "      <td>0</td>\n",
              "      <td>0</td>\n",
              "      <td>0</td>\n",
              "      <td>0</td>\n",
              "      <td>0</td>\n",
              "      <td>0</td>\n",
              "      <td>0</td>\n",
              "      <td>0</td>\n",
              "      <td>0</td>\n",
              "      <td>...</td>\n",
              "      <td>0</td>\n",
              "      <td>0</td>\n",
              "      <td>0</td>\n",
              "      <td>0</td>\n",
              "      <td>0</td>\n",
              "      <td>0</td>\n",
              "      <td>0</td>\n",
              "      <td>0</td>\n",
              "      <td>0</td>\n",
              "      <td>0</td>\n",
              "    </tr>\n",
              "    <tr>\n",
              "      <th>470</th>\n",
              "      <td>0</td>\n",
              "      <td>0</td>\n",
              "      <td>0</td>\n",
              "      <td>0</td>\n",
              "      <td>0</td>\n",
              "      <td>0</td>\n",
              "      <td>0</td>\n",
              "      <td>0</td>\n",
              "      <td>0</td>\n",
              "      <td>0</td>\n",
              "      <td>...</td>\n",
              "      <td>0</td>\n",
              "      <td>0</td>\n",
              "      <td>0</td>\n",
              "      <td>0</td>\n",
              "      <td>0</td>\n",
              "      <td>0</td>\n",
              "      <td>0</td>\n",
              "      <td>0</td>\n",
              "      <td>0</td>\n",
              "      <td>0</td>\n",
              "    </tr>\n",
              "  </tbody>\n",
              "</table>\n",
              "<p>985 rows × 60061 columns</p>\n",
              "</div>\n",
              "      <button class=\"colab-df-convert\" onclick=\"convertToInteractive('df-cc8eb2ec-e733-403e-9aa6-ba5a8a2b425b')\"\n",
              "              title=\"Convert this dataframe to an interactive table.\"\n",
              "              style=\"display:none;\">\n",
              "        \n",
              "  <svg xmlns=\"http://www.w3.org/2000/svg\" height=\"24px\"viewBox=\"0 0 24 24\"\n",
              "       width=\"24px\">\n",
              "    <path d=\"M0 0h24v24H0V0z\" fill=\"none\"/>\n",
              "    <path d=\"M18.56 5.44l.94 2.06.94-2.06 2.06-.94-2.06-.94-.94-2.06-.94 2.06-2.06.94zm-11 1L8.5 8.5l.94-2.06 2.06-.94-2.06-.94L8.5 2.5l-.94 2.06-2.06.94zm10 10l.94 2.06.94-2.06 2.06-.94-2.06-.94-.94-2.06-.94 2.06-2.06.94z\"/><path d=\"M17.41 7.96l-1.37-1.37c-.4-.4-.92-.59-1.43-.59-.52 0-1.04.2-1.43.59L10.3 9.45l-7.72 7.72c-.78.78-.78 2.05 0 2.83L4 21.41c.39.39.9.59 1.41.59.51 0 1.02-.2 1.41-.59l7.78-7.78 2.81-2.81c.8-.78.8-2.07 0-2.86zM5.41 20L4 18.59l7.72-7.72 1.47 1.35L5.41 20z\"/>\n",
              "  </svg>\n",
              "      </button>\n",
              "      \n",
              "  <style>\n",
              "    .colab-df-container {\n",
              "      display:flex;\n",
              "      flex-wrap:wrap;\n",
              "      gap: 12px;\n",
              "    }\n",
              "\n",
              "    .colab-df-convert {\n",
              "      background-color: #E8F0FE;\n",
              "      border: none;\n",
              "      border-radius: 50%;\n",
              "      cursor: pointer;\n",
              "      display: none;\n",
              "      fill: #1967D2;\n",
              "      height: 32px;\n",
              "      padding: 0 0 0 0;\n",
              "      width: 32px;\n",
              "    }\n",
              "\n",
              "    .colab-df-convert:hover {\n",
              "      background-color: #E2EBFA;\n",
              "      box-shadow: 0px 1px 2px rgba(60, 64, 67, 0.3), 0px 1px 3px 1px rgba(60, 64, 67, 0.15);\n",
              "      fill: #174EA6;\n",
              "    }\n",
              "\n",
              "    [theme=dark] .colab-df-convert {\n",
              "      background-color: #3B4455;\n",
              "      fill: #D2E3FC;\n",
              "    }\n",
              "\n",
              "    [theme=dark] .colab-df-convert:hover {\n",
              "      background-color: #434B5C;\n",
              "      box-shadow: 0px 1px 3px 1px rgba(0, 0, 0, 0.15);\n",
              "      filter: drop-shadow(0px 1px 2px rgba(0, 0, 0, 0.3));\n",
              "      fill: #FFFFFF;\n",
              "    }\n",
              "  </style>\n",
              "\n",
              "      <script>\n",
              "        const buttonEl =\n",
              "          document.querySelector('#df-cc8eb2ec-e733-403e-9aa6-ba5a8a2b425b button.colab-df-convert');\n",
              "        buttonEl.style.display =\n",
              "          google.colab.kernel.accessAllowed ? 'block' : 'none';\n",
              "\n",
              "        async function convertToInteractive(key) {\n",
              "          const element = document.querySelector('#df-cc8eb2ec-e733-403e-9aa6-ba5a8a2b425b');\n",
              "          const dataTable =\n",
              "            await google.colab.kernel.invokeFunction('convertToInteractive',\n",
              "                                                     [key], {});\n",
              "          if (!dataTable) return;\n",
              "\n",
              "          const docLinkHtml = 'Like what you see? Visit the ' +\n",
              "            '<a target=\"_blank\" href=https://colab.research.google.com/notebooks/data_table.ipynb>data table notebook</a>'\n",
              "            + ' to learn more about interactive tables.';\n",
              "          element.innerHTML = '';\n",
              "          dataTable['output_type'] = 'display_data';\n",
              "          await google.colab.output.renderOutput(dataTable, element);\n",
              "          const docLink = document.createElement('div');\n",
              "          docLink.innerHTML = docLinkHtml;\n",
              "          element.appendChild(docLink);\n",
              "        }\n",
              "      </script>\n",
              "    </div>\n",
              "  </div>\n",
              "  "
            ]
          },
          "metadata": {},
          "execution_count": 120
        }
      ]
    },
    {
      "cell_type": "code",
      "source": [
        "y_train"
      ],
      "metadata": {
        "colab": {
          "base_uri": "https://localhost:8080/"
        },
        "id": "L46FOG6cvMq6",
        "outputId": "145c81f2-c370-4628-eb68-c64440918da4"
      },
      "execution_count": 121,
      "outputs": [
        {
          "output_type": "execute_result",
          "data": {
            "text/plain": [
              "array([15,  8,  3,  8,  1,  7, 13,  5, 10, 11, 15,  3,  1,  2,  7, 10,  3,\n",
              "       14,  2, 13,  3, 10, 13,  7,  3, 14,  1,  8, 10,  4,  7,  5,  7,  3,\n",
              "        4,  8, 14,  3, 11, 13,  5,  1,  3,  8, 14, 14, 15,  4,  4,  6,  4,\n",
              "       12,  7,  7, 13,  7,  9,  1,  2, 13,  8, 10, 14, 12, 13,  9,  9,  3,\n",
              "        4, 11,  4, 14, 12, 11,  8,  3,  7,  4,  1, 10,  1,  8, 13, 13, 11,\n",
              "        2,  9,  2,  5,  1,  5,  7,  1,  8,  1, 11,  5,  8, 11,  5,  7,  3,\n",
              "       12,  8,  3, 10,  4, 13, 11,  1,  3,  5, 11, 11,  4,  2, 13,  4, 10,\n",
              "       12,  5, 12, 11,  9, 14, 13,  8,  9,  8,  7,  2,  5, 11,  9, 11,  5,\n",
              "       14, 15, 11, 13,  1,  2, 15,  8, 12,  2,  3, 13,  7, 10, 15, 14,  7,\n",
              "       12,  7, 14, 12,  2, 10,  9, 10, 14, 15, 13, 13,  8,  9, 15,  4,  4,\n",
              "       15,  7, 13,  7, 14,  8, 11,  4, 15, 10,  1,  9,  9,  8,  4,  4, 12,\n",
              "        9, 14, 13, 10,  9, 13, 15,  1,  2,  9,  6,  4, 11,  4,  3,  3,  4,\n",
              "       14, 12,  3,  7, 11,  7,  9, 15, 11, 11, 15,  9,  7,  1, 13, 11,  4,\n",
              "        2,  8, 11,  2,  5,  3,  8, 14,  7, 10,  2,  9, 15,  8, 15, 15, 12,\n",
              "        1, 10, 14,  2,  9,  7,  2,  1,  1, 11,  8,  8, 11, 13, 10, 13,  2,\n",
              "        9,  5,  5, 12,  5,  4, 14, 11,  9,  4,  8,  3, 11,  5,  5,  5,  4,\n",
              "        0,  4,  8, 14, 10,  2, 15,  2,  1,  7,  2,  2, 14, 14,  4, 13, 11,\n",
              "        8,  4, 14, 13,  4,  3,  4,  8, 12,  1, 14, 12, 15,  5, 11, 15, 14,\n",
              "        7,  9, 10,  9,  4,  0, 15, 10,  7,  1,  1, 10,  3,  5,  2,  7, 10,\n",
              "       13, 15,  8,  9,  7,  4, 10, 13,  1,  5, 11,  3,  1,  3,  4,  5,  1,\n",
              "        3,  2, 10, 13, 11, 14, 15,  8, 14, 11, 15,  7, 12,  5,  1,  3,  1,\n",
              "       14, 14,  0,  7,  4, 13,  6, 11, 15,  8,  4,  7, 15,  7, 15, 11,  4,\n",
              "       14,  9,  1,  9,  7, 11,  3, 14,  0, 15,  4, 11, 13,  5, 14, 10,  5,\n",
              "        5,  4, 15,  7,  5,  5,  5,  1,  4, 11,  9,  9, 11, 13,  8,  7, 15,\n",
              "        3, 13,  7, 15, 10,  5,  6,  1, 12, 12, 13,  0, 14,  8,  3,  3,  8,\n",
              "        8, 10,  4, 11, 10,  7,  3,  3, 15, 14, 15,  4, 10, 14, 11,  2, 15,\n",
              "        3, 11, 10,  5,  1,  7,  5, 15,  0,  1,  5,  1,  4,  4, 10,  9, 11,\n",
              "       13, 13, 13, 10, 15, 10, 14,  8,  4,  3, 12, 15, 12,  9, 15, 10,  5,\n",
              "        1, 15, 15,  6,  9, 13,  0,  4,  2, 14,  9,  5,  3,  1, 14,  3, 11,\n",
              "       13, 11, 10,  4,  4,  8, 15,  4,  2, 15,  2,  8,  4,  2,  2,  1, 14,\n",
              "       15,  1, 14,  3,  2,  3,  9,  7, 10, 12, 13, 11,  9, 10, 10,  8, 14,\n",
              "        1,  2,  4,  3,  3, 15,  1,  5,  3,  2,  6,  5,  5, 12,  5,  1,  1,\n",
              "       15,  2, 13, 13, 12, 14,  3, 14,  4,  8,  9, 14,  5,  7,  3,  2, 13,\n",
              "        8, 11, 10,  1,  7, 13,  4, 10, 15,  9, 11,  1, 11,  1, 12, 15,  8,\n",
              "        6,  9, 15, 12,  4, 12, 13, 14,  5,  9, 10, 12,  0, 14,  8,  4,  3,\n",
              "       15,  4, 10,  3,  7, 14,  7,  5, 12, 10,  7, 10, 15,  4,  5,  2,  2,\n",
              "       11, 15,  1,  4,  3,  8,  6, 13,  8,  4,  2, 13,  7,  2,  2,  9, 15,\n",
              "        3,  3,  3,  7, 15,  0,  2, 11,  7,  8,  2,  7, 15,  1, 12,  4, 13,\n",
              "        4, 11,  3, 14, 10,  3,  9, 15, 13,  7, 13,  2,  4,  2, 12, 14, 12,\n",
              "       12, 13, 12,  8,  8,  1,  8,  1,  8, 13,  7, 12, 12, 13,  8,  6, 12,\n",
              "       12,  7, 11,  2, 10, 11,  5,  7, 15, 10, 12, 13,  5,  1,  9,  1,  5,\n",
              "       11, 15,  1,  1, 12, 14,  3,  8, 12,  4,  1, 10,  8, 15,  7, 10, 10,\n",
              "       14,  7,  5,  8,  5,  4,  4, 10,  1,  9,  1,  1, 11,  3, 12,  0,  4,\n",
              "        9, 15,  0, 14,  9,  2, 14,  1, 12,  8, 10,  9,  9,  1,  3,  5,  9,\n",
              "        7, 14,  7,  1,  2, 15,  1,  2, 13,  5, 10,  8, 12,  3, 11, 14,  3,\n",
              "       15,  3,  4,  5,  7,  9,  3,  2,  2,  9, 12,  8, 14,  4,  1, 10,  9,\n",
              "       11, 12, 15,  7,  4,  8,  9, 11, 15, 15, 12,  1, 14,  1,  2, 14,  2,\n",
              "        1,  3,  4, 15,  2, 12,  5,  2,  2, 13, 15, 11, 13, 13,  9,  5, 12,\n",
              "       13, 10, 10,  1,  2, 14, 13, 13, 14,  7,  7,  7, 10, 14, 13,  8, 13,\n",
              "       13,  4,  5,  3, 11, 13,  9,  1, 10,  1,  3, 11, 15,  4,  4, 10,  5,\n",
              "        3,  3, 14,  9, 13, 13, 15,  5,  8,  2,  6,  7, 10, 12,  4,  9,  4,\n",
              "        8,  1,  4,  5, 14,  8,  7, 12,  3,  1,  8, 15,  1,  2, 10, 14, 13,\n",
              "        7,  1, 14, 13,  3,  3,  4,  4,  4,  5,  9,  8,  2, 13,  8,  3,  1,\n",
              "        5, 10,  5, 14,  7, 11,  9,  9,  4,  9, 14, 12, 11, 10, 10,  2, 14,\n",
              "       15, 12, 13, 15, 11,  1,  7,  8,  1, 14, 10, 15,  6,  2,  4,  8,  8,\n",
              "       15,  3,  4,  2, 15, 14, 12, 15,  3,  5,  2,  7,  4, 11, 10, 12, 12,\n",
              "       15,  5,  5,  7, 14,  3,  2,  3,  7,  1, 12, 14, 11,  1,  5, 13, 12,\n",
              "        7, 13,  2,  2,  9, 10, 10, 14,  8, 12, 14,  3, 14, 13, 13, 11])"
            ]
          },
          "metadata": {},
          "execution_count": 121
        }
      ]
    },
    {
      "cell_type": "markdown",
      "source": [
        ""
      ],
      "metadata": {
        "id": "ZfRtjeg3vRO_"
      }
    },
    {
      "cell_type": "markdown",
      "source": [
        "# Machine Learning model\n",
        "\n",
        "Here we use teh Multinomial Naive Bayes Model to train the model"
      ],
      "metadata": {
        "id": "Fo_szL4uTHfY"
      }
    },
    {
      "cell_type": "code",
      "source": [
        "# Train the model \n",
        "from sklearn.naive_bayes import MultinomialNB\n",
        "\n",
        "model = MultinomialNB()\n",
        "model.fit(X_train, y_train)"
      ],
      "metadata": {
        "colab": {
          "base_uri": "https://localhost:8080/"
        },
        "id": "oeZE7tymvSZU",
        "outputId": "3de39331-397c-44c1-8d46-d7042ffe12a4"
      },
      "execution_count": 122,
      "outputs": [
        {
          "output_type": "execute_result",
          "data": {
            "text/plain": [
              "MultinomialNB()"
            ]
          },
          "metadata": {},
          "execution_count": 122
        }
      ]
    },
    {
      "cell_type": "code",
      "source": [
        "#predict the X_test\n",
        "prediction = model.predict(X_test)\n",
        "prediction"
      ],
      "metadata": {
        "colab": {
          "base_uri": "https://localhost:8080/"
        },
        "id": "q7yc8Dc32XN8",
        "outputId": "9f04e6fd-7125-42db-8f97-488681d4b1aa"
      },
      "execution_count": 124,
      "outputs": [
        {
          "output_type": "execute_result",
          "data": {
            "text/plain": [
              "array([10, 14, 12,  8,  3,  3,  4, 14, 12,  7, 10, 15,  8,  8, 14, 14,  1,\n",
              "       10,  4,  1,  4,  3, 12, 10, 11, 14, 12, 15, 13,  4, 13, 11,  0,  2,\n",
              "        7, 14,  9,  5,  9,  9,  1, 13,  3, 13,  4, 15, 11, 11,  3,  0,  5,\n",
              "        3,  1, 10, 15,  2, 11,  4,  3, 15, 12,  7,  1,  5,  1, 13,  9,  4,\n",
              "       10,  1,  5,  2,  8,  7,  5,  7,  1,  1,  2,  1, 12, 10, 12, 11, 10,\n",
              "       15,  7, 11,  5, 10, 13, 15, 14,  7,  2, 10, 13,  2, 12, 12,  9,  7,\n",
              "        1,  3,  7, 15, 12,  1, 14,  1, 10,  2,  8, 11,  2,  2,  5, 14,  8,\n",
              "        4, 13,  5, 15,  1,  8,  8,  4, 10, 14,  5,  5,  2,  4, 15, 13, 10,\n",
              "        3, 13,  4, 13,  0,  1,  7,  3, 15, 14, 12,  2, 14, 11, 13, 10,  3,\n",
              "       11,  9, 14,  7, 13, 15,  2,  1,  7, 14,  5,  7,  4,  2,  8,  9, 13,\n",
              "        5,  3,  8,  2,  3,  7,  7,  2, 15,  9, 13,  7, 13, 14,  8, 15,  9,\n",
              "        8,  2, 14,  4,  9, 11,  4,  8,  1,  5,  4, 10,  4,  5, 14, 10,  3,\n",
              "        7, 11, 10,  2, 13, 13,  8, 11, 13, 13, 15,  8, 10,  9, 15,  9, 10,\n",
              "       11,  2,  3,  3, 15,  9,  2, 10,  2, 11, 11, 10,  5, 13,  4, 13, 10,\n",
              "        3, 11,  1, 14,  7, 14,  8,  8,  7, 14, 10,  2, 12,  3,  3, 12,  4,\n",
              "        8, 11,  8, 14, 15, 15, 13,  1,  9, 14,  9, 12, 11,  3, 10, 10,  4,\n",
              "       10, 11, 15, 14,  4, 12,  9,  1,  2, 15,  5,  4, 15,  4, 11, 14, 13,\n",
              "        1, 10,  2,  3, 11, 13, 10,  5, 15,  5, 11,  9, 11, 10,  0,  4,  3,\n",
              "        9, 14, 10,  3, 14,  7,  4, 10,  7, 15,  4, 10,  9, 13, 12, 10, 10,\n",
              "        3, 14, 14, 13,  5,  8,  7,  5,  7, 15,  2,  2, 11,  8,  8,  8, 15,\n",
              "       15, 11, 11, 15,  3, 15,  7,  3, 10, 11, 11,  5,  1,  5,  1,  3,  8,\n",
              "       14,  5, 14, 10, 12,  7,  3, 14,  3,  3, 13,  8,  3, 14, 10,  9,  8,\n",
              "        9, 13,  3,  8, 15, 13,  9,  4, 11, 12,  1,  1, 10, 13,  2,  4, 13,\n",
              "        4,  5,  1, 13,  4, 14, 12,  5,  3, 13,  9,  1,  9, 12,  5, 13, 15,\n",
              "        4, 15, 15, 10, 14, 14, 15,  1, 11,  4,  9, 13,  2,  8,  4])"
            ]
          },
          "metadata": {},
          "execution_count": 124
        }
      ]
    },
    {
      "cell_type": "markdown",
      "source": [
        "# Test the model\n",
        "\n",
        "Test the model and print the accuracy of the created machine learning model"
      ],
      "metadata": {
        "id": "R9Fsz24l3UrD"
      }
    },
    {
      "cell_type": "code",
      "source": [
        "#print the actual label to compare with the prediction\n",
        "y_test"
      ],
      "metadata": {
        "colab": {
          "base_uri": "https://localhost:8080/"
        },
        "id": "OkN8LyNe2Yid",
        "outputId": "90e5d5ce-5264-4c15-c947-2b63214526f3"
      },
      "execution_count": 125,
      "outputs": [
        {
          "output_type": "execute_result",
          "data": {
            "text/plain": [
              "array([10, 14, 12,  8,  3,  3,  4, 14, 12,  7, 10, 15, 15,  8, 14, 14,  1,\n",
              "        5,  4,  1,  4,  0, 12,  6, 11, 12, 12, 15, 13,  4, 13, 11,  0,  2,\n",
              "        7, 14,  9,  5,  9,  9,  1,  6,  3, 13,  4, 15, 11, 11,  3,  0,  5,\n",
              "        1,  1, 10, 15,  2, 11,  4,  3, 15, 12,  7,  1,  5,  1, 13,  4,  4,\n",
              "       10,  1,  5,  2,  8,  7,  5,  1,  1,  1,  2,  1,  6,  8, 12, 12, 10,\n",
              "       15,  7, 11,  5, 10, 13, 15, 14,  7,  2,  8, 13,  2, 12, 12,  9,  7,\n",
              "        1,  3,  7, 15, 12,  4, 14,  1, 10,  2,  8, 11,  2,  2,  5, 14,  8,\n",
              "        4, 13,  5, 15,  1,  8,  8,  4, 10, 14,  5,  5,  7,  4, 15, 13,  2,\n",
              "        1,  7,  2, 13,  0,  1,  7,  3, 15, 14, 12, 12,  9, 12, 13,  9,  1,\n",
              "       11,  9, 14,  7, 13, 15,  2,  1,  7, 14,  5,  7,  4,  2,  8,  9, 13,\n",
              "        5,  3,  8,  2,  3,  7,  7,  2, 15,  9, 13,  7, 13, 14,  8, 15,  9,\n",
              "        8,  2, 14,  4,  8, 11,  4,  8,  1,  5,  4, 10,  4,  5, 14,  1,  3,\n",
              "        7, 11, 10,  2, 10, 13,  8, 11, 13, 13, 15,  8,  6,  1, 15,  9, 10,\n",
              "       11,  2,  3,  3, 15,  9,  2, 10,  2, 11, 11, 10,  5, 13,  4, 13, 10,\n",
              "        3, 11,  4, 14,  7, 14,  8,  8,  7, 14, 10,  2, 12,  3,  3, 12,  4,\n",
              "        8, 11,  8, 14, 15,  3, 13,  1,  9, 14,  9, 12, 11,  3, 10,  7,  4,\n",
              "        9, 11, 15, 12,  4, 12,  9,  1,  2, 15,  5,  4, 15,  4, 11, 14,  7,\n",
              "        2, 10,  2,  3, 11, 13, 10,  5,  7,  5, 11,  9, 11, 10,  0,  4,  3,\n",
              "        9, 14,  4,  3, 14,  7,  4, 10,  7, 15,  4, 10,  9, 13, 12, 10, 10,\n",
              "        3, 14, 14, 13,  5,  8,  7,  5,  7, 15,  2,  2,  3,  8,  8,  8, 15,\n",
              "       15, 11, 11, 15,  3,  5,  7,  3, 10, 11, 11,  5,  1,  5,  1,  3,  1,\n",
              "       14,  5, 14,  6, 12,  7,  3, 14,  3,  3, 13,  8,  3, 10,  1,  9,  8,\n",
              "        9, 13,  3,  8, 15, 13,  9,  4, 11, 12,  1,  1, 10, 10, 12,  4, 13,\n",
              "       10,  5,  1, 13,  4, 14, 12,  5,  3, 13,  9,  1,  9, 12,  5, 13, 15,\n",
              "        4, 15, 15, 11, 14, 14, 15,  1,  2,  4,  9, 13,  2,  8,  4])"
            ]
          },
          "metadata": {},
          "execution_count": 125
        }
      ]
    },
    {
      "cell_type": "code",
      "source": [
        "#print the training accuracy and the testing accuracy\n",
        "from sklearn.metrics import accuracy_score\n",
        "\n",
        "print('The mode training accuracy:', round(accuracy_score(y_train, model.predict(X_train)),5))\n",
        "print('The model Testing accuracy:', round(accuracy_score(y_test, prediction),5))"
      ],
      "metadata": {
        "colab": {
          "base_uri": "https://localhost:8080/"
        },
        "id": "imcZ9HNM2gYT",
        "outputId": "249c32fd-872f-4f7c-935c-d386f47a6c44"
      },
      "execution_count": 127,
      "outputs": [
        {
          "output_type": "stream",
          "name": "stdout",
          "text": [
            "The mode training accuracy: 0.98376\n",
            "The model Testing accuracy: 0.88416\n"
          ]
        }
      ]
    },
    {
      "cell_type": "code",
      "source": [
        "a = dataset.Category.unique()\n",
        "a.sort()"
      ],
      "metadata": {
        "id": "NYGZZBQJLcUZ"
      },
      "execution_count": 176,
      "outputs": []
    },
    {
      "cell_type": "code",
      "source": [
        "from sklearn.metrics import confusion_matrix\n",
        "import matplotlib.pyplot as plt\n",
        "import seaborn as sns\n",
        "\n",
        "confusion_matrix(y_test, model.predict(X_test))\n",
        "\n",
        "\n",
        "sns.heatmap(confusion_matrix(y_test, model.predict(X_test)).T, square=False, annot=True, fmt='d', cbar=False\n",
        "            ,xticklabels=dataset.Category.unique(),\n",
        "            yticklabels=dataset.Category.unique()\n",
        "           )\n",
        "plt.xlabel('true label')\n",
        "plt.ylabel('predicted label');"
      ],
      "metadata": {
        "id": "NTa8I1kh5L32",
        "outputId": "f1400bbc-bbbe-41c0-be11-bd1e4723f259",
        "colab": {
          "base_uri": "https://localhost:8080/",
          "height": 438
        }
      },
      "execution_count": 179,
      "outputs": [
        {
          "output_type": "display_data",
          "data": {
            "text/plain": [
              "<Figure size 432x288 with 1 Axes>"
            ],
            "image/png": "[encoded data removed]"
          },
          "metadata": {
            "needs_background": "light"
          }
        }
      ]
    },
    {
      "cell_type": "code",
      "source": [
        "#Test the created model\n",
        "import numpy as np\n",
        "new_text = np.array([\"She is very hot and sexy\"])\n",
        "\n",
        "new_vector = countvectorizer.transform(new_text)\n",
        "print(le.inverse_transform(model.predict(new_vector)))"
      ],
      "metadata": {
        "colab": {
          "base_uri": "https://localhost:8080/"
        },
        "id": "gtELcW812o6O",
        "outputId": "06709f03-dde7-443e-ce5d-0e6ec39f4dbc"
      },
      "execution_count": 180,
      "outputs": [
        {
          "output_type": "stream",
          "name": "stdout",
          "text": [
            "['Adult']\n"
          ]
        },
        {
          "output_type": "stream",
          "name": "stderr",
          "text": [
            "/usr/local/lib/python3.7/dist-packages/sklearn/base.py:451: UserWarning: X does not have valid feature names, but MultinomialNB was fitted with feature names\n",
            "  \"X does not have valid feature names, but\"\n"
          ]
        }
      ]
    }
  ]
}