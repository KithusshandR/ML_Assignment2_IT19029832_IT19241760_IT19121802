{
  "nbformat": 4,
  "nbformat_minor": 0,
  "metadata": {
    "colab": {
      "name": "ML_Assignment02.ipynb",
      "provenance": [],
      "authorship_tag": "ABX9TyOjlP29zb5vLnmoVKmB2tG4",
      "include_colab_link": true
    },
    "kernelspec": {
      "name": "python3",
      "display_name": "Python 3"
    },
    "language_info": {
      "name": "python"
    }
  },
  "cells": [
    {
      "cell_type": "markdown",
      "metadata": {
        "id": "view-in-github",
        "colab_type": "text"
      },
      "source": [
        "<a href=\"https://colab.research.google.com/github/KithusshandR/ML_Assignment2_IT19029832_IT19241760_IT19121802/blob/Development/ML_Assignment02.ipynb\" target=\"_parent\"><img src=\"https://colab.research.google.com/assets/colab-badge.svg\" alt=\"Open In Colab\"/></a>"
      ]
    },
    {
      "cell_type": "markdown",
      "source": [
        "# Import Necessary Libraries\n",
        "\n",
        "The nltk library to proecess the text and the pandas library to load the data are loaded."
      ],
      "metadata": {
        "id": "1XQEnq6qEqVj"
      }
    },
    {
      "cell_type": "code",
      "execution_count": 1,
      "metadata": {
        "id": "GXcL-kvC-b7J"
      },
      "outputs": [],
      "source": [
        "#load the libraries\n",
        "import nltk\n",
        "import pandas as pd"
      ]
    },
    {
      "cell_type": "markdown",
      "source": [
        "# Load Data\n",
        "\n",
        "Load the dataset "
      ],
      "metadata": {
        "id": "yKmm2tKqE4Eb"
      }
    },
    {
      "cell_type": "code",
      "source": [
        "#load data from the github repository \n",
        "#pre-request the repository needs to be public\n",
        "# dataset = pd.read_csv('https://github.com/KithusshandR/ML_Assignment2_IT19029832_IT19241760_IT19121802/blob/main/website_classification.csv') \n",
        "\n",
        "#load data from google drive\n",
        "from google.colab import drive\n",
        "drive.mount('/content/gdrive')\n",
        "\n",
        "dataset = pd.read_csv('/content/gdrive/MyDrive/content/website_classification.csv')\n",
        "\n",
        "dataset.head()"
      ],
      "metadata": {
        "colab": {
          "base_uri": "https://localhost:8080/",
          "height": 225
        },
        "id": "2SXdwBtTAGpG",
        "outputId": "f2b25ba5-756c-46d6-f724-5ded43b12b74"
      },
      "execution_count": 2,
      "outputs": [
        {
          "output_type": "stream",
          "name": "stdout",
          "text": [
            "Drive already mounted at /content/gdrive; to attempt to forcibly remount, call drive.mount(\"/content/gdrive\", force_remount=True).\n"
          ]
        },
        {
          "output_type": "execute_result",
          "data": {
            "text/plain": [
              "   Unnamed: 0                                        website_url  \\\n",
              "0           0     https://www.booking.com/index.html?aid=1743217   \n",
              "1           1                   https://travelsites.com/expedia/   \n",
              "2           2               https://travelsites.com/tripadvisor/   \n",
              "3           3              https://www.momondo.in/?ispredir=true   \n",
              "4           4  https://www.ebookers.com/?AFFCID=EBOOKERS-UK.n...   \n",
              "\n",
              "                                cleaned_website_text Category  \n",
              "0  official site good hotel accommodation big sav...   Travel  \n",
              "1  expedia hotel book sites like use vacation wor...   Travel  \n",
              "2  tripadvisor hotel book sites like previously d...   Travel  \n",
              "3  cheap flights search compare flights momondo f...   Travel  \n",
              "4  bot create free account create free account si...   Travel  "
            ],
            "text/html": [
              "\n",
              "  <div id=\"df-9015afe1-7eab-409c-aa7d-d99f94c241f3\">\n",
              "    <div class=\"colab-df-container\">\n",
              "      <div>\n",
              "<style scoped>\n",
              "    .dataframe tbody tr th:only-of-type {\n",
              "        vertical-align: middle;\n",
              "    }\n",
              "\n",
              "    .dataframe tbody tr th {\n",
              "        vertical-align: top;\n",
              "    }\n",
              "\n",
              "    .dataframe thead th {\n",
              "        text-align: right;\n",
              "    }\n",
              "</style>\n",
              "<table border=\"1\" class=\"dataframe\">\n",
              "  <thead>\n",
              "    <tr style=\"text-align: right;\">\n",
              "      <th></th>\n",
              "      <th>Unnamed: 0</th>\n",
              "      <th>website_url</th>\n",
              "      <th>cleaned_website_text</th>\n",
              "      <th>Category</th>\n",
              "    </tr>\n",
              "  </thead>\n",
              "  <tbody>\n",
              "    <tr>\n",
              "      <th>0</th>\n",
              "      <td>0</td>\n",
              "      <td>https://www.booking.com/index.html?aid=1743217</td>\n",
              "      <td>official site good hotel accommodation big sav...</td>\n",
              "      <td>Travel</td>\n",
              "    </tr>\n",
              "    <tr>\n",
              "      <th>1</th>\n",
              "      <td>1</td>\n",
              "      <td>https://travelsites.com/expedia/</td>\n",
              "      <td>expedia hotel book sites like use vacation wor...</td>\n",
              "      <td>Travel</td>\n",
              "    </tr>\n",
              "    <tr>\n",
              "      <th>2</th>\n",
              "      <td>2</td>\n",
              "      <td>https://travelsites.com/tripadvisor/</td>\n",
              "      <td>tripadvisor hotel book sites like previously d...</td>\n",
              "      <td>Travel</td>\n",
              "    </tr>\n",
              "    <tr>\n",
              "      <th>3</th>\n",
              "      <td>3</td>\n",
              "      <td>https://www.momondo.in/?ispredir=true</td>\n",
              "      <td>cheap flights search compare flights momondo f...</td>\n",
              "      <td>Travel</td>\n",
              "    </tr>\n",
              "    <tr>\n",
              "      <th>4</th>\n",
              "      <td>4</td>\n",
              "      <td>https://www.ebookers.com/?AFFCID=EBOOKERS-UK.n...</td>\n",
              "      <td>bot create free account create free account si...</td>\n",
              "      <td>Travel</td>\n",
              "    </tr>\n",
              "  </tbody>\n",
              "</table>\n",
              "</div>\n",
              "      <button class=\"colab-df-convert\" onclick=\"convertToInteractive('df-9015afe1-7eab-409c-aa7d-d99f94c241f3')\"\n",
              "              title=\"Convert this dataframe to an interactive table.\"\n",
              "              style=\"display:none;\">\n",
              "        \n",
              "  <svg xmlns=\"http://www.w3.org/2000/svg\" height=\"24px\"viewBox=\"0 0 24 24\"\n",
              "       width=\"24px\">\n",
              "    <path d=\"M0 0h24v24H0V0z\" fill=\"none\"/>\n",
              "    <path d=\"M18.56 5.44l.94 2.06.94-2.06 2.06-.94-2.06-.94-.94-2.06-.94 2.06-2.06.94zm-11 1L8.5 8.5l.94-2.06 2.06-.94-2.06-.94L8.5 2.5l-.94 2.06-2.06.94zm10 10l.94 2.06.94-2.06 2.06-.94-2.06-.94-.94-2.06-.94 2.06-2.06.94z\"/><path d=\"M17.41 7.96l-1.37-1.37c-.4-.4-.92-.59-1.43-.59-.52 0-1.04.2-1.43.59L10.3 9.45l-7.72 7.72c-.78.78-.78 2.05 0 2.83L4 21.41c.39.39.9.59 1.41.59.51 0 1.02-.2 1.41-.59l7.78-7.78 2.81-2.81c.8-.78.8-2.07 0-2.86zM5.41 20L4 18.59l7.72-7.72 1.47 1.35L5.41 20z\"/>\n",
              "  </svg>\n",
              "      </button>\n",
              "      \n",
              "  <style>\n",
              "    .colab-df-container {\n",
              "      display:flex;\n",
              "      flex-wrap:wrap;\n",
              "      gap: 12px;\n",
              "    }\n",
              "\n",
              "    .colab-df-convert {\n",
              "      background-color: #E8F0FE;\n",
              "      border: none;\n",
              "      border-radius: 50%;\n",
              "      cursor: pointer;\n",
              "      display: none;\n",
              "      fill: #1967D2;\n",
              "      height: 32px;\n",
              "      padding: 0 0 0 0;\n",
              "      width: 32px;\n",
              "    }\n",
              "\n",
              "    .colab-df-convert:hover {\n",
              "      background-color: #E2EBFA;\n",
              "      box-shadow: 0px 1px 2px rgba(60, 64, 67, 0.3), 0px 1px 3px 1px rgba(60, 64, 67, 0.15);\n",
              "      fill: #174EA6;\n",
              "    }\n",
              "\n",
              "    [theme=dark] .colab-df-convert {\n",
              "      background-color: #3B4455;\n",
              "      fill: #D2E3FC;\n",
              "    }\n",
              "\n",
              "    [theme=dark] .colab-df-convert:hover {\n",
              "      background-color: #434B5C;\n",
              "      box-shadow: 0px 1px 3px 1px rgba(0, 0, 0, 0.15);\n",
              "      filter: drop-shadow(0px 1px 2px rgba(0, 0, 0, 0.3));\n",
              "      fill: #FFFFFF;\n",
              "    }\n",
              "  </style>\n",
              "\n",
              "      <script>\n",
              "        const buttonEl =\n",
              "          document.querySelector('#df-9015afe1-7eab-409c-aa7d-d99f94c241f3 button.colab-df-convert');\n",
              "        buttonEl.style.display =\n",
              "          google.colab.kernel.accessAllowed ? 'block' : 'none';\n",
              "\n",
              "        async function convertToInteractive(key) {\n",
              "          const element = document.querySelector('#df-9015afe1-7eab-409c-aa7d-d99f94c241f3');\n",
              "          const dataTable =\n",
              "            await google.colab.kernel.invokeFunction('convertToInteractive',\n",
              "                                                     [key], {});\n",
              "          if (!dataTable) return;\n",
              "\n",
              "          const docLinkHtml = 'Like what you see? Visit the ' +\n",
              "            '<a target=\"_blank\" href=https://colab.research.google.com/notebooks/data_table.ipynb>data table notebook</a>'\n",
              "            + ' to learn more about interactive tables.';\n",
              "          element.innerHTML = '';\n",
              "          dataTable['output_type'] = 'display_data';\n",
              "          await google.colab.output.renderOutput(dataTable, element);\n",
              "          const docLink = document.createElement('div');\n",
              "          docLink.innerHTML = docLinkHtml;\n",
              "          element.appendChild(docLink);\n",
              "        }\n",
              "      </script>\n",
              "    </div>\n",
              "  </div>\n",
              "  "
            ]
          },
          "metadata": {},
          "execution_count": 2
        }
      ]
    },
    {
      "cell_type": "markdown",
      "source": [
        "# Analysis the loaded Dataset\n",
        "\n",
        "The loaded dataset is analysised to find the information about the dataset like No of row and no of columns"
      ],
      "metadata": {
        "id": "TktHObkmFB28"
      }
    },
    {
      "cell_type": "code",
      "source": [
        "#find the dataset number of rows and columns\n",
        "dataset.shape"
      ],
      "metadata": {
        "colab": {
          "base_uri": "https://localhost:8080/"
        },
        "id": "PLuR2akXBEj7",
        "outputId": "798c0cdb-664a-45cf-b166-1454bd2e9151"
      },
      "execution_count": 3,
      "outputs": [
        {
          "output_type": "execute_result",
          "data": {
            "text/plain": [
              "(1408, 4)"
            ]
          },
          "metadata": {},
          "execution_count": 3
        }
      ]
    },
    {
      "cell_type": "code",
      "source": [
        "#print the dataset columns names\n",
        "dataset.columns"
      ],
      "metadata": {
        "colab": {
          "base_uri": "https://localhost:8080/"
        },
        "id": "Uui385jNBe9O",
        "outputId": "c9d79ced-199b-4810-b1e8-3a334b652a65"
      },
      "execution_count": 4,
      "outputs": [
        {
          "output_type": "execute_result",
          "data": {
            "text/plain": [
              "Index(['Unnamed: 0', 'website_url', 'cleaned_website_text', 'Category'], dtype='object')"
            ]
          },
          "metadata": {},
          "execution_count": 4
        }
      ]
    },
    {
      "cell_type": "code",
      "source": [
        "#drop the first column (ID column)\n",
        "dataset = dataset.drop('Unnamed: 0', axis=1)\n",
        "dataset = dataset.drop('website_url', axis=1)\n",
        "dataset.head()"
      ],
      "metadata": {
        "colab": {
          "base_uri": "https://localhost:8080/",
          "height": 206
        },
        "id": "E_CJv527Bjtz",
        "outputId": "b618e971-7137-4a8e-a127-15f463272b21"
      },
      "execution_count": 5,
      "outputs": [
        {
          "output_type": "execute_result",
          "data": {
            "text/plain": [
              "                                cleaned_website_text Category\n",
              "0  official site good hotel accommodation big sav...   Travel\n",
              "1  expedia hotel book sites like use vacation wor...   Travel\n",
              "2  tripadvisor hotel book sites like previously d...   Travel\n",
              "3  cheap flights search compare flights momondo f...   Travel\n",
              "4  bot create free account create free account si...   Travel"
            ],
            "text/html": [
              "\n",
              "  <div id=\"df-8030f7f3-f04e-49c0-98a8-336529584930\">\n",
              "    <div class=\"colab-df-container\">\n",
              "      <div>\n",
              "<style scoped>\n",
              "    .dataframe tbody tr th:only-of-type {\n",
              "        vertical-align: middle;\n",
              "    }\n",
              "\n",
              "    .dataframe tbody tr th {\n",
              "        vertical-align: top;\n",
              "    }\n",
              "\n",
              "    .dataframe thead th {\n",
              "        text-align: right;\n",
              "    }\n",
              "</style>\n",
              "<table border=\"1\" class=\"dataframe\">\n",
              "  <thead>\n",
              "    <tr style=\"text-align: right;\">\n",
              "      <th></th>\n",
              "      <th>cleaned_website_text</th>\n",
              "      <th>Category</th>\n",
              "    </tr>\n",
              "  </thead>\n",
              "  <tbody>\n",
              "    <tr>\n",
              "      <th>0</th>\n",
              "      <td>official site good hotel accommodation big sav...</td>\n",
              "      <td>Travel</td>\n",
              "    </tr>\n",
              "    <tr>\n",
              "      <th>1</th>\n",
              "      <td>expedia hotel book sites like use vacation wor...</td>\n",
              "      <td>Travel</td>\n",
              "    </tr>\n",
              "    <tr>\n",
              "      <th>2</th>\n",
              "      <td>tripadvisor hotel book sites like previously d...</td>\n",
              "      <td>Travel</td>\n",
              "    </tr>\n",
              "    <tr>\n",
              "      <th>3</th>\n",
              "      <td>cheap flights search compare flights momondo f...</td>\n",
              "      <td>Travel</td>\n",
              "    </tr>\n",
              "    <tr>\n",
              "      <th>4</th>\n",
              "      <td>bot create free account create free account si...</td>\n",
              "      <td>Travel</td>\n",
              "    </tr>\n",
              "  </tbody>\n",
              "</table>\n",
              "</div>\n",
              "      <button class=\"colab-df-convert\" onclick=\"convertToInteractive('df-8030f7f3-f04e-49c0-98a8-336529584930')\"\n",
              "              title=\"Convert this dataframe to an interactive table.\"\n",
              "              style=\"display:none;\">\n",
              "        \n",
              "  <svg xmlns=\"http://www.w3.org/2000/svg\" height=\"24px\"viewBox=\"0 0 24 24\"\n",
              "       width=\"24px\">\n",
              "    <path d=\"M0 0h24v24H0V0z\" fill=\"none\"/>\n",
              "    <path d=\"M18.56 5.44l.94 2.06.94-2.06 2.06-.94-2.06-.94-.94-2.06-.94 2.06-2.06.94zm-11 1L8.5 8.5l.94-2.06 2.06-.94-2.06-.94L8.5 2.5l-.94 2.06-2.06.94zm10 10l.94 2.06.94-2.06 2.06-.94-2.06-.94-.94-2.06-.94 2.06-2.06.94z\"/><path d=\"M17.41 7.96l-1.37-1.37c-.4-.4-.92-.59-1.43-.59-.52 0-1.04.2-1.43.59L10.3 9.45l-7.72 7.72c-.78.78-.78 2.05 0 2.83L4 21.41c.39.39.9.59 1.41.59.51 0 1.02-.2 1.41-.59l7.78-7.78 2.81-2.81c.8-.78.8-2.07 0-2.86zM5.41 20L4 18.59l7.72-7.72 1.47 1.35L5.41 20z\"/>\n",
              "  </svg>\n",
              "      </button>\n",
              "      \n",
              "  <style>\n",
              "    .colab-df-container {\n",
              "      display:flex;\n",
              "      flex-wrap:wrap;\n",
              "      gap: 12px;\n",
              "    }\n",
              "\n",
              "    .colab-df-convert {\n",
              "      background-color: #E8F0FE;\n",
              "      border: none;\n",
              "      border-radius: 50%;\n",
              "      cursor: pointer;\n",
              "      display: none;\n",
              "      fill: #1967D2;\n",
              "      height: 32px;\n",
              "      padding: 0 0 0 0;\n",
              "      width: 32px;\n",
              "    }\n",
              "\n",
              "    .colab-df-convert:hover {\n",
              "      background-color: #E2EBFA;\n",
              "      box-shadow: 0px 1px 2px rgba(60, 64, 67, 0.3), 0px 1px 3px 1px rgba(60, 64, 67, 0.15);\n",
              "      fill: #174EA6;\n",
              "    }\n",
              "\n",
              "    [theme=dark] .colab-df-convert {\n",
              "      background-color: #3B4455;\n",
              "      fill: #D2E3FC;\n",
              "    }\n",
              "\n",
              "    [theme=dark] .colab-df-convert:hover {\n",
              "      background-color: #434B5C;\n",
              "      box-shadow: 0px 1px 3px 1px rgba(0, 0, 0, 0.15);\n",
              "      filter: drop-shadow(0px 1px 2px rgba(0, 0, 0, 0.3));\n",
              "      fill: #FFFFFF;\n",
              "    }\n",
              "  </style>\n",
              "\n",
              "      <script>\n",
              "        const buttonEl =\n",
              "          document.querySelector('#df-8030f7f3-f04e-49c0-98a8-336529584930 button.colab-df-convert');\n",
              "        buttonEl.style.display =\n",
              "          google.colab.kernel.accessAllowed ? 'block' : 'none';\n",
              "\n",
              "        async function convertToInteractive(key) {\n",
              "          const element = document.querySelector('#df-8030f7f3-f04e-49c0-98a8-336529584930');\n",
              "          const dataTable =\n",
              "            await google.colab.kernel.invokeFunction('convertToInteractive',\n",
              "                                                     [key], {});\n",
              "          if (!dataTable) return;\n",
              "\n",
              "          const docLinkHtml = 'Like what you see? Visit the ' +\n",
              "            '<a target=\"_blank\" href=https://colab.research.google.com/notebooks/data_table.ipynb>data table notebook</a>'\n",
              "            + ' to learn more about interactive tables.';\n",
              "          element.innerHTML = '';\n",
              "          dataTable['output_type'] = 'display_data';\n",
              "          await google.colab.output.renderOutput(dataTable, element);\n",
              "          const docLink = document.createElement('div');\n",
              "          docLink.innerHTML = docLinkHtml;\n",
              "          element.appendChild(docLink);\n",
              "        }\n",
              "      </script>\n",
              "    </div>\n",
              "  </div>\n",
              "  "
            ]
          },
          "metadata": {},
          "execution_count": 5
        }
      ]
    },
    {
      "cell_type": "code",
      "source": [
        "#find the datatype\n",
        "dataset.dtypes"
      ],
      "metadata": {
        "colab": {
          "base_uri": "https://localhost:8080/"
        },
        "id": "Q40rCY3dDSdr",
        "outputId": "09e9e409-3092-47e9-f1bb-1e933454e705"
      },
      "execution_count": 6,
      "outputs": [
        {
          "output_type": "execute_result",
          "data": {
            "text/plain": [
              "cleaned_website_text    object\n",
              "Category                object\n",
              "dtype: object"
            ]
          },
          "metadata": {},
          "execution_count": 6
        }
      ]
    },
    {
      "cell_type": "code",
      "source": [
        "dataset.Category.unique()"
      ],
      "metadata": {
        "id": "B8oDQR47Gezl",
        "outputId": "325bfab1-fc8b-4b9a-d667-de5b77633ccf",
        "colab": {
          "base_uri": "https://localhost:8080/"
        }
      },
      "execution_count": 7,
      "outputs": [
        {
          "output_type": "execute_result",
          "data": {
            "text/plain": [
              "array(['Travel', 'Social Networking and Messaging', 'News',\n",
              "       'Streaming Services', 'Sports', 'Photography',\n",
              "       'Law and Government', 'Health and Fitness', 'Games', 'E-Commerce',\n",
              "       'Forums', 'Food', 'Education', 'Computers and Technology',\n",
              "       'Business/Corporate', 'Adult'], dtype=object)"
            ]
          },
          "metadata": {},
          "execution_count": 7
        }
      ]
    },
    {
      "cell_type": "code",
      "source": [
        "#find the fact about the dataset e.g: Datatype and count\n",
        "dataset.info()"
      ],
      "metadata": {
        "colab": {
          "base_uri": "https://localhost:8080/"
        },
        "id": "JWKpL063DHdF",
        "outputId": "adbd80a1-74ac-4e74-be4a-6fa77918c01d"
      },
      "execution_count": 8,
      "outputs": [
        {
          "output_type": "stream",
          "name": "stdout",
          "text": [
            "<class 'pandas.core.frame.DataFrame'>\n",
            "RangeIndex: 1408 entries, 0 to 1407\n",
            "Data columns (total 2 columns):\n",
            " #   Column                Non-Null Count  Dtype \n",
            "---  ------                --------------  ----- \n",
            " 0   cleaned_website_text  1408 non-null   object\n",
            " 1   Category              1408 non-null   object\n",
            "dtypes: object(2)\n",
            "memory usage: 22.1+ KB\n"
          ]
        }
      ]
    },
    {
      "cell_type": "markdown",
      "source": [
        "# Data Preprocessing\n",
        "\n",
        "The Data preprocessing is used to clean the data like removeing the null values and duplicate values and prepare the dataset to train the machine learning model."
      ],
      "metadata": {
        "id": "-6dO9wO0FPnm"
      }
    },
    {
      "cell_type": "code",
      "source": [
        "from nltk.stem import WordNetLemmatizer\n",
        "import re\n",
        "from nltk.corpus import stopwords\n",
        "nltk.download('stopwords')\n",
        "nltk.download('punkt')\n",
        "nltk.download('wordnet')\n",
        "lemmartizer = WordNetLemmatizer()"
      ],
      "metadata": {
        "id": "skpVBnYHDbCy",
        "outputId": "6418e717-6a90-444a-bd7c-3f543dae1ca7",
        "colab": {
          "base_uri": "https://localhost:8080/"
        }
      },
      "execution_count": 9,
      "outputs": [
        {
          "output_type": "stream",
          "name": "stdout",
          "text": [
            "[nltk_data] Downloading package stopwords to /root/nltk_data...\n",
            "[nltk_data]   Package stopwords is already up-to-date!\n",
            "[nltk_data] Downloading package punkt to /root/nltk_data...\n",
            "[nltk_data]   Package punkt is already up-to-date!\n",
            "[nltk_data] Downloading package wordnet to /root/nltk_data...\n",
            "[nltk_data]   Package wordnet is already up-to-date!\n"
          ]
        }
      ]
    },
    {
      "cell_type": "code",
      "source": [
        "#create a function to tokenize the words and use lemmartizer to lemmatize the word\n",
        "def tokenize(text):\n",
        "  #lemmatize the words\n",
        "  text = text.lower()\n",
        "  text = lemmartizer.lemmatize(text)\n",
        "  text = re.sub(r'\\W+|\\d+|_', ' ', text)\n",
        "  #create the text into word tokens\n",
        "  tokens = nltk.word_tokenize(text)\n",
        "  return tokens"
      ],
      "metadata": {
        "id": "eHnsdxt5jHw9"
      },
      "execution_count": 10,
      "outputs": []
    },
    {
      "cell_type": "code",
      "source": [
        "#add some stopwords that needs to remove\n",
        "nltk_stop_words = set(stopwords.words('english'))\n",
        "nltk_stop_words.update([\"'d\", \"'ll\", \"'re\", \"'s\", \"'ve\", 'could', 'doe', 'ha', 'might', 'must', \"n't\", 'need', 'sha', 'wa', 'wo', 'would'])"
      ],
      "metadata": {
        "id": "fZnYEfR5j6gB"
      },
      "execution_count": 11,
      "outputs": []
    },
    {
      "cell_type": "code",
      "source": [
        "from sklearn.feature_extraction.text import CountVectorizer\n",
        "\n",
        "#use the count Vectorizer to vectorize the text.\n",
        "countvectorizer = CountVectorizer(min_df=1, tokenizer=tokenize, stop_words=nltk_stop_words)\n",
        "\n",
        "#create a dataframe\n",
        "dtm = pd.DataFrame(countvectorizer.fit_transform(dataset['cleaned_website_text']).toarray(),\n",
        "                                                 columns=countvectorizer.get_feature_names(), index=None)\n",
        "\n",
        "\n",
        "#check the dataframe\n",
        "dtm.head()"
      ],
      "metadata": {
        "colab": {
          "base_uri": "https://localhost:8080/",
          "height": 329
        },
        "id": "tPvjrpGJkDtd",
        "outputId": "b0f49143-e258-4be2-b5c8-fddcd457be0a"
      },
      "execution_count": 12,
      "outputs": [
        {
          "output_type": "stream",
          "name": "stderr",
          "text": [
            "/usr/local/lib/python3.7/dist-packages/sklearn/feature_extraction/text.py:401: UserWarning: Your stop_words may be inconsistent with your preprocessing. Tokenizing the stop words generated tokens ['n'] not in stop_words.\n",
            "  % sorted(inconsistent)\n",
            "/usr/local/lib/python3.7/dist-packages/sklearn/utils/deprecation.py:87: FutureWarning: Function get_feature_names is deprecated; get_feature_names is deprecated in 1.0 and will be removed in 1.2. Please use get_feature_names_out instead.\n",
            "  warnings.warn(msg, category=FutureWarning)\n"
          ]
        },
        {
          "output_type": "execute_result",
          "data": {
            "text/plain": [
              "   aa  aaa  aaaannnnnd  aaaargh  aaacn  aaap  aab  aabaad  aac  aachen  ...  \\\n",
              "0   0    0           0        0      0     0    0       0    0       0  ...   \n",
              "1   0    0           0        0      0     0    0       0    0       0  ...   \n",
              "2   0    0           0        0      0     0    0       0    0       0  ...   \n",
              "3   0    0           0        0      0     0    0       0    0       0  ...   \n",
              "4   0    0           0        0      0     0    0       0    0       0  ...   \n",
              "\n",
              "   카메라  한국  한국어  현미경용  𝐂  𝐅𝐎𝐑  𝐅𝐔𝐋𝐋𝐘  𝐋𝐎𝐀𝐃𝐄𝐃  𝐎𝐏𝐄𝐍  𝐓𝐀𝐊𝐄𝐀  \n",
              "0    0   0    1     0  0    0      0       0     0      0  \n",
              "1    0   0    0     0  0    0      0       0     0      0  \n",
              "2    0   0    0     0  0    0      0       0     0      0  \n",
              "3    0   0    0     0  0    0      0       0     0      0  \n",
              "4    0   0    0     0  0    0      0       0     0      0  \n",
              "\n",
              "[5 rows x 58579 columns]"
            ],
            "text/html": [
              "\n",
              "  <div id=\"df-9c1a80c6-05d7-4aa3-8dfa-97811e532525\">\n",
              "    <div class=\"colab-df-container\">\n",
              "      <div>\n",
              "<style scoped>\n",
              "    .dataframe tbody tr th:only-of-type {\n",
              "        vertical-align: middle;\n",
              "    }\n",
              "\n",
              "    .dataframe tbody tr th {\n",
              "        vertical-align: top;\n",
              "    }\n",
              "\n",
              "    .dataframe thead th {\n",
              "        text-align: right;\n",
              "    }\n",
              "</style>\n",
              "<table border=\"1\" class=\"dataframe\">\n",
              "  <thead>\n",
              "    <tr style=\"text-align: right;\">\n",
              "      <th></th>\n",
              "      <th>aa</th>\n",
              "      <th>aaa</th>\n",
              "      <th>aaaannnnnd</th>\n",
              "      <th>aaaargh</th>\n",
              "      <th>aaacn</th>\n",
              "      <th>aaap</th>\n",
              "      <th>aab</th>\n",
              "      <th>aabaad</th>\n",
              "      <th>aac</th>\n",
              "      <th>aachen</th>\n",
              "      <th>...</th>\n",
              "      <th>카메라</th>\n",
              "      <th>한국</th>\n",
              "      <th>한국어</th>\n",
              "      <th>현미경용</th>\n",
              "      <th>𝐂</th>\n",
              "      <th>𝐅𝐎𝐑</th>\n",
              "      <th>𝐅𝐔𝐋𝐋𝐘</th>\n",
              "      <th>𝐋𝐎𝐀𝐃𝐄𝐃</th>\n",
              "      <th>𝐎𝐏𝐄𝐍</th>\n",
              "      <th>𝐓𝐀𝐊𝐄𝐀</th>\n",
              "    </tr>\n",
              "  </thead>\n",
              "  <tbody>\n",
              "    <tr>\n",
              "      <th>0</th>\n",
              "      <td>0</td>\n",
              "      <td>0</td>\n",
              "      <td>0</td>\n",
              "      <td>0</td>\n",
              "      <td>0</td>\n",
              "      <td>0</td>\n",
              "      <td>0</td>\n",
              "      <td>0</td>\n",
              "      <td>0</td>\n",
              "      <td>0</td>\n",
              "      <td>...</td>\n",
              "      <td>0</td>\n",
              "      <td>0</td>\n",
              "      <td>1</td>\n",
              "      <td>0</td>\n",
              "      <td>0</td>\n",
              "      <td>0</td>\n",
              "      <td>0</td>\n",
              "      <td>0</td>\n",
              "      <td>0</td>\n",
              "      <td>0</td>\n",
              "    </tr>\n",
              "    <tr>\n",
              "      <th>1</th>\n",
              "      <td>0</td>\n",
              "      <td>0</td>\n",
              "      <td>0</td>\n",
              "      <td>0</td>\n",
              "      <td>0</td>\n",
              "      <td>0</td>\n",
              "      <td>0</td>\n",
              "      <td>0</td>\n",
              "      <td>0</td>\n",
              "      <td>0</td>\n",
              "      <td>...</td>\n",
              "      <td>0</td>\n",
              "      <td>0</td>\n",
              "      <td>0</td>\n",
              "      <td>0</td>\n",
              "      <td>0</td>\n",
              "      <td>0</td>\n",
              "      <td>0</td>\n",
              "      <td>0</td>\n",
              "      <td>0</td>\n",
              "      <td>0</td>\n",
              "    </tr>\n",
              "    <tr>\n",
              "      <th>2</th>\n",
              "      <td>0</td>\n",
              "      <td>0</td>\n",
              "      <td>0</td>\n",
              "      <td>0</td>\n",
              "      <td>0</td>\n",
              "      <td>0</td>\n",
              "      <td>0</td>\n",
              "      <td>0</td>\n",
              "      <td>0</td>\n",
              "      <td>0</td>\n",
              "      <td>...</td>\n",
              "      <td>0</td>\n",
              "      <td>0</td>\n",
              "      <td>0</td>\n",
              "      <td>0</td>\n",
              "      <td>0</td>\n",
              "      <td>0</td>\n",
              "      <td>0</td>\n",
              "      <td>0</td>\n",
              "      <td>0</td>\n",
              "      <td>0</td>\n",
              "    </tr>\n",
              "    <tr>\n",
              "      <th>3</th>\n",
              "      <td>0</td>\n",
              "      <td>0</td>\n",
              "      <td>0</td>\n",
              "      <td>0</td>\n",
              "      <td>0</td>\n",
              "      <td>0</td>\n",
              "      <td>0</td>\n",
              "      <td>0</td>\n",
              "      <td>0</td>\n",
              "      <td>0</td>\n",
              "      <td>...</td>\n",
              "      <td>0</td>\n",
              "      <td>0</td>\n",
              "      <td>0</td>\n",
              "      <td>0</td>\n",
              "      <td>0</td>\n",
              "      <td>0</td>\n",
              "      <td>0</td>\n",
              "      <td>0</td>\n",
              "      <td>0</td>\n",
              "      <td>0</td>\n",
              "    </tr>\n",
              "    <tr>\n",
              "      <th>4</th>\n",
              "      <td>0</td>\n",
              "      <td>0</td>\n",
              "      <td>0</td>\n",
              "      <td>0</td>\n",
              "      <td>0</td>\n",
              "      <td>0</td>\n",
              "      <td>0</td>\n",
              "      <td>0</td>\n",
              "      <td>0</td>\n",
              "      <td>0</td>\n",
              "      <td>...</td>\n",
              "      <td>0</td>\n",
              "      <td>0</td>\n",
              "      <td>0</td>\n",
              "      <td>0</td>\n",
              "      <td>0</td>\n",
              "      <td>0</td>\n",
              "      <td>0</td>\n",
              "      <td>0</td>\n",
              "      <td>0</td>\n",
              "      <td>0</td>\n",
              "    </tr>\n",
              "  </tbody>\n",
              "</table>\n",
              "<p>5 rows × 58579 columns</p>\n",
              "</div>\n",
              "      <button class=\"colab-df-convert\" onclick=\"convertToInteractive('df-9c1a80c6-05d7-4aa3-8dfa-97811e532525')\"\n",
              "              title=\"Convert this dataframe to an interactive table.\"\n",
              "              style=\"display:none;\">\n",
              "        \n",
              "  <svg xmlns=\"http://www.w3.org/2000/svg\" height=\"24px\"viewBox=\"0 0 24 24\"\n",
              "       width=\"24px\">\n",
              "    <path d=\"M0 0h24v24H0V0z\" fill=\"none\"/>\n",
              "    <path d=\"M18.56 5.44l.94 2.06.94-2.06 2.06-.94-2.06-.94-.94-2.06-.94 2.06-2.06.94zm-11 1L8.5 8.5l.94-2.06 2.06-.94-2.06-.94L8.5 2.5l-.94 2.06-2.06.94zm10 10l.94 2.06.94-2.06 2.06-.94-2.06-.94-.94-2.06-.94 2.06-2.06.94z\"/><path d=\"M17.41 7.96l-1.37-1.37c-.4-.4-.92-.59-1.43-.59-.52 0-1.04.2-1.43.59L10.3 9.45l-7.72 7.72c-.78.78-.78 2.05 0 2.83L4 21.41c.39.39.9.59 1.41.59.51 0 1.02-.2 1.41-.59l7.78-7.78 2.81-2.81c.8-.78.8-2.07 0-2.86zM5.41 20L4 18.59l7.72-7.72 1.47 1.35L5.41 20z\"/>\n",
              "  </svg>\n",
              "      </button>\n",
              "      \n",
              "  <style>\n",
              "    .colab-df-container {\n",
              "      display:flex;\n",
              "      flex-wrap:wrap;\n",
              "      gap: 12px;\n",
              "    }\n",
              "\n",
              "    .colab-df-convert {\n",
              "      background-color: #E8F0FE;\n",
              "      border: none;\n",
              "      border-radius: 50%;\n",
              "      cursor: pointer;\n",
              "      display: none;\n",
              "      fill: #1967D2;\n",
              "      height: 32px;\n",
              "      padding: 0 0 0 0;\n",
              "      width: 32px;\n",
              "    }\n",
              "\n",
              "    .colab-df-convert:hover {\n",
              "      background-color: #E2EBFA;\n",
              "      box-shadow: 0px 1px 2px rgba(60, 64, 67, 0.3), 0px 1px 3px 1px rgba(60, 64, 67, 0.15);\n",
              "      fill: #174EA6;\n",
              "    }\n",
              "\n",
              "    [theme=dark] .colab-df-convert {\n",
              "      background-color: #3B4455;\n",
              "      fill: #D2E3FC;\n",
              "    }\n",
              "\n",
              "    [theme=dark] .colab-df-convert:hover {\n",
              "      background-color: #434B5C;\n",
              "      box-shadow: 0px 1px 3px 1px rgba(0, 0, 0, 0.15);\n",
              "      filter: drop-shadow(0px 1px 2px rgba(0, 0, 0, 0.3));\n",
              "      fill: #FFFFFF;\n",
              "    }\n",
              "  </style>\n",
              "\n",
              "      <script>\n",
              "        const buttonEl =\n",
              "          document.querySelector('#df-9c1a80c6-05d7-4aa3-8dfa-97811e532525 button.colab-df-convert');\n",
              "        buttonEl.style.display =\n",
              "          google.colab.kernel.accessAllowed ? 'block' : 'none';\n",
              "\n",
              "        async function convertToInteractive(key) {\n",
              "          const element = document.querySelector('#df-9c1a80c6-05d7-4aa3-8dfa-97811e532525');\n",
              "          const dataTable =\n",
              "            await google.colab.kernel.invokeFunction('convertToInteractive',\n",
              "                                                     [key], {});\n",
              "          if (!dataTable) return;\n",
              "\n",
              "          const docLinkHtml = 'Like what you see? Visit the ' +\n",
              "            '<a target=\"_blank\" href=https://colab.research.google.com/notebooks/data_table.ipynb>data table notebook</a>'\n",
              "            + ' to learn more about interactive tables.';\n",
              "          element.innerHTML = '';\n",
              "          dataTable['output_type'] = 'display_data';\n",
              "          await google.colab.output.renderOutput(dataTable, element);\n",
              "          const docLink = document.createElement('div');\n",
              "          docLink.innerHTML = docLinkHtml;\n",
              "          element.appendChild(docLink);\n",
              "        }\n",
              "      </script>\n",
              "    </div>\n",
              "  </div>\n",
              "  "
            ]
          },
          "metadata": {},
          "execution_count": 12
        }
      ]
    },
    {
      "cell_type": "code",
      "source": [
        "#print the dataframe row number anc column number\n",
        "dtm.shape"
      ],
      "metadata": {
        "colab": {
          "base_uri": "https://localhost:8080/"
        },
        "id": "Lzlncg4-kflx",
        "outputId": "2c3123dc-be2d-4185-be3d-db44fa51383b"
      },
      "execution_count": 13,
      "outputs": [
        {
          "output_type": "execute_result",
          "data": {
            "text/plain": [
              "(1408, 58579)"
            ]
          },
          "metadata": {},
          "execution_count": 13
        }
      ]
    },
    {
      "cell_type": "code",
      "source": [
        "#Use the Encoder to encoding the lable\n",
        "from sklearn import preprocessing\n",
        "\n",
        "le = preprocessing.LabelEncoder()\n",
        "lable = le.fit_transform(dataset.Category)"
      ],
      "metadata": {
        "id": "gmwkH9nKkg9X"
      },
      "execution_count": 14,
      "outputs": []
    },
    {
      "cell_type": "code",
      "source": [
        "#check the Categories that encoded\n",
        "print(lable)"
      ],
      "metadata": {
        "colab": {
          "base_uri": "https://localhost:8080/"
        },
        "id": "HvCw5ND_mH1d",
        "outputId": "efc33bbf-abeb-4c54-aae4-3681f976530d"
      },
      "execution_count": 15,
      "outputs": [
        {
          "output_type": "stream",
          "name": "stdout",
          "text": [
            "[15 15 15 ...  0  0  0]\n"
          ]
        }
      ]
    },
    {
      "cell_type": "code",
      "source": [
        "# train and test dataset split\n",
        "from sklearn.model_selection import train_test_split\n",
        "\n",
        "X_train, X_test, y_train, y_test = train_test_split(dtm, lable, \n",
        "                                     train_size = 0.9, \n",
        "                                     test_size = 0.1, \n",
        "                                     random_state = 100,\n",
        "                                     stratify = lable)"
      ],
      "metadata": {
        "id": "BguGd6WpmYp7"
      },
      "execution_count": 16,
      "outputs": []
    },
    {
      "cell_type": "code",
      "source": [
        "X_train"
      ],
      "metadata": {
        "colab": {
          "base_uri": "https://localhost:8080/",
          "height": 423
        },
        "id": "uzaTlO0MvI7e",
        "outputId": "b461f812-5523-40e5-d9f1-c4021acfd61f"
      },
      "execution_count": 17,
      "outputs": [
        {
          "output_type": "execute_result",
          "data": {
            "text/plain": [
              "     aa  aaa  aaaannnnnd  aaaargh  aaacn  aaap  aab  aabaad  aac  aachen  ...  \\\n",
              "358   0    0           0        0      0     0    0       0    0       0  ...   \n",
              "63    0    0           0        0      0     0    0       0    0       0  ...   \n",
              "21    0    1           0        0      0     0    0       0    0       0  ...   \n",
              "158   0    0           0        0      0     0    0       0    0       0  ...   \n",
              "369   0    0           0        0      0     0    0       0    0       0  ...   \n",
              "..   ..  ...         ...      ...    ...   ...  ...     ...  ...     ...  ...   \n",
              "752   0    0           0        0      0     0    0       0    0       0  ...   \n",
              "488   0    0           0        0      0     0    0       0    0       0  ...   \n",
              "64    0    0           0        0      0     0    0       0    0       0  ...   \n",
              "443   0    0           0        0      0     0    0       0    0       0  ...   \n",
              "559   0    0           0        0      0     0    0       0    0       0  ...   \n",
              "\n",
              "     카메라  한국  한국어  현미경용  𝐂  𝐅𝐎𝐑  𝐅𝐔𝐋𝐋𝐘  𝐋𝐎𝐀𝐃𝐄𝐃  𝐎𝐏𝐄𝐍  𝐓𝐀𝐊𝐄𝐀  \n",
              "358    0   0    0     0  0    0      0       0     0      0  \n",
              "63     0   0    0     0  0    0      0       0     0      0  \n",
              "21     0   0    0     0  0    0      0       0     0      0  \n",
              "158    0   0    0     0  0    0      0       0     0      0  \n",
              "369    0   0    0     0  0    0      0       0     0      0  \n",
              "..   ...  ..  ...   ... ..  ...    ...     ...   ...    ...  \n",
              "752    0   0    0     0  0    0      0       0     0      0  \n",
              "488    0   0    0     0  0    0      0       0     0      0  \n",
              "64     0   0    0     0  0    0      0       0     0      0  \n",
              "443    0   0    0     0  0    0      0       0     0      0  \n",
              "559    0   0    0     0  0    0      0       0     0      0  \n",
              "\n",
              "[1267 rows x 58579 columns]"
            ],
            "text/html": [
              "\n",
              "  <div id=\"df-2b14215c-afaa-488d-ab98-cfb71658398c\">\n",
              "    <div class=\"colab-df-container\">\n",
              "      <div>\n",
              "<style scoped>\n",
              "    .dataframe tbody tr th:only-of-type {\n",
              "        vertical-align: middle;\n",
              "    }\n",
              "\n",
              "    .dataframe tbody tr th {\n",
              "        vertical-align: top;\n",
              "    }\n",
              "\n",
              "    .dataframe thead th {\n",
              "        text-align: right;\n",
              "    }\n",
              "</style>\n",
              "<table border=\"1\" class=\"dataframe\">\n",
              "  <thead>\n",
              "    <tr style=\"text-align: right;\">\n",
              "      <th></th>\n",
              "      <th>aa</th>\n",
              "      <th>aaa</th>\n",
              "      <th>aaaannnnnd</th>\n",
              "      <th>aaaargh</th>\n",
              "      <th>aaacn</th>\n",
              "      <th>aaap</th>\n",
              "      <th>aab</th>\n",
              "      <th>aabaad</th>\n",
              "      <th>aac</th>\n",
              "      <th>aachen</th>\n",
              "      <th>...</th>\n",
              "      <th>카메라</th>\n",
              "      <th>한국</th>\n",
              "      <th>한국어</th>\n",
              "      <th>현미경용</th>\n",
              "      <th>𝐂</th>\n",
              "      <th>𝐅𝐎𝐑</th>\n",
              "      <th>𝐅𝐔𝐋𝐋𝐘</th>\n",
              "      <th>𝐋𝐎𝐀𝐃𝐄𝐃</th>\n",
              "      <th>𝐎𝐏𝐄𝐍</th>\n",
              "      <th>𝐓𝐀𝐊𝐄𝐀</th>\n",
              "    </tr>\n",
              "  </thead>\n",
              "  <tbody>\n",
              "    <tr>\n",
              "      <th>358</th>\n",
              "      <td>0</td>\n",
              "      <td>0</td>\n",
              "      <td>0</td>\n",
              "      <td>0</td>\n",
              "      <td>0</td>\n",
              "      <td>0</td>\n",
              "      <td>0</td>\n",
              "      <td>0</td>\n",
              "      <td>0</td>\n",
              "      <td>0</td>\n",
              "      <td>...</td>\n",
              "      <td>0</td>\n",
              "      <td>0</td>\n",
              "      <td>0</td>\n",
              "      <td>0</td>\n",
              "      <td>0</td>\n",
              "      <td>0</td>\n",
              "      <td>0</td>\n",
              "      <td>0</td>\n",
              "      <td>0</td>\n",
              "      <td>0</td>\n",
              "    </tr>\n",
              "    <tr>\n",
              "      <th>63</th>\n",
              "      <td>0</td>\n",
              "      <td>0</td>\n",
              "      <td>0</td>\n",
              "      <td>0</td>\n",
              "      <td>0</td>\n",
              "      <td>0</td>\n",
              "      <td>0</td>\n",
              "      <td>0</td>\n",
              "      <td>0</td>\n",
              "      <td>0</td>\n",
              "      <td>...</td>\n",
              "      <td>0</td>\n",
              "      <td>0</td>\n",
              "      <td>0</td>\n",
              "      <td>0</td>\n",
              "      <td>0</td>\n",
              "      <td>0</td>\n",
              "      <td>0</td>\n",
              "      <td>0</td>\n",
              "      <td>0</td>\n",
              "      <td>0</td>\n",
              "    </tr>\n",
              "    <tr>\n",
              "      <th>21</th>\n",
              "      <td>0</td>\n",
              "      <td>1</td>\n",
              "      <td>0</td>\n",
              "      <td>0</td>\n",
              "      <td>0</td>\n",
              "      <td>0</td>\n",
              "      <td>0</td>\n",
              "      <td>0</td>\n",
              "      <td>0</td>\n",
              "      <td>0</td>\n",
              "      <td>...</td>\n",
              "      <td>0</td>\n",
              "      <td>0</td>\n",
              "      <td>0</td>\n",
              "      <td>0</td>\n",
              "      <td>0</td>\n",
              "      <td>0</td>\n",
              "      <td>0</td>\n",
              "      <td>0</td>\n",
              "      <td>0</td>\n",
              "      <td>0</td>\n",
              "    </tr>\n",
              "    <tr>\n",
              "      <th>158</th>\n",
              "      <td>0</td>\n",
              "      <td>0</td>\n",
              "      <td>0</td>\n",
              "      <td>0</td>\n",
              "      <td>0</td>\n",
              "      <td>0</td>\n",
              "      <td>0</td>\n",
              "      <td>0</td>\n",
              "      <td>0</td>\n",
              "      <td>0</td>\n",
              "      <td>...</td>\n",
              "      <td>0</td>\n",
              "      <td>0</td>\n",
              "      <td>0</td>\n",
              "      <td>0</td>\n",
              "      <td>0</td>\n",
              "      <td>0</td>\n",
              "      <td>0</td>\n",
              "      <td>0</td>\n",
              "      <td>0</td>\n",
              "      <td>0</td>\n",
              "    </tr>\n",
              "    <tr>\n",
              "      <th>369</th>\n",
              "      <td>0</td>\n",
              "      <td>0</td>\n",
              "      <td>0</td>\n",
              "      <td>0</td>\n",
              "      <td>0</td>\n",
              "      <td>0</td>\n",
              "      <td>0</td>\n",
              "      <td>0</td>\n",
              "      <td>0</td>\n",
              "      <td>0</td>\n",
              "      <td>...</td>\n",
              "      <td>0</td>\n",
              "      <td>0</td>\n",
              "      <td>0</td>\n",
              "      <td>0</td>\n",
              "      <td>0</td>\n",
              "      <td>0</td>\n",
              "      <td>0</td>\n",
              "      <td>0</td>\n",
              "      <td>0</td>\n",
              "      <td>0</td>\n",
              "    </tr>\n",
              "    <tr>\n",
              "      <th>...</th>\n",
              "      <td>...</td>\n",
              "      <td>...</td>\n",
              "      <td>...</td>\n",
              "      <td>...</td>\n",
              "      <td>...</td>\n",
              "      <td>...</td>\n",
              "      <td>...</td>\n",
              "      <td>...</td>\n",
              "      <td>...</td>\n",
              "      <td>...</td>\n",
              "      <td>...</td>\n",
              "      <td>...</td>\n",
              "      <td>...</td>\n",
              "      <td>...</td>\n",
              "      <td>...</td>\n",
              "      <td>...</td>\n",
              "      <td>...</td>\n",
              "      <td>...</td>\n",
              "      <td>...</td>\n",
              "      <td>...</td>\n",
              "      <td>...</td>\n",
              "    </tr>\n",
              "    <tr>\n",
              "      <th>752</th>\n",
              "      <td>0</td>\n",
              "      <td>0</td>\n",
              "      <td>0</td>\n",
              "      <td>0</td>\n",
              "      <td>0</td>\n",
              "      <td>0</td>\n",
              "      <td>0</td>\n",
              "      <td>0</td>\n",
              "      <td>0</td>\n",
              "      <td>0</td>\n",
              "      <td>...</td>\n",
              "      <td>0</td>\n",
              "      <td>0</td>\n",
              "      <td>0</td>\n",
              "      <td>0</td>\n",
              "      <td>0</td>\n",
              "      <td>0</td>\n",
              "      <td>0</td>\n",
              "      <td>0</td>\n",
              "      <td>0</td>\n",
              "      <td>0</td>\n",
              "    </tr>\n",
              "    <tr>\n",
              "      <th>488</th>\n",
              "      <td>0</td>\n",
              "      <td>0</td>\n",
              "      <td>0</td>\n",
              "      <td>0</td>\n",
              "      <td>0</td>\n",
              "      <td>0</td>\n",
              "      <td>0</td>\n",
              "      <td>0</td>\n",
              "      <td>0</td>\n",
              "      <td>0</td>\n",
              "      <td>...</td>\n",
              "      <td>0</td>\n",
              "      <td>0</td>\n",
              "      <td>0</td>\n",
              "      <td>0</td>\n",
              "      <td>0</td>\n",
              "      <td>0</td>\n",
              "      <td>0</td>\n",
              "      <td>0</td>\n",
              "      <td>0</td>\n",
              "      <td>0</td>\n",
              "    </tr>\n",
              "    <tr>\n",
              "      <th>64</th>\n",
              "      <td>0</td>\n",
              "      <td>0</td>\n",
              "      <td>0</td>\n",
              "      <td>0</td>\n",
              "      <td>0</td>\n",
              "      <td>0</td>\n",
              "      <td>0</td>\n",
              "      <td>0</td>\n",
              "      <td>0</td>\n",
              "      <td>0</td>\n",
              "      <td>...</td>\n",
              "      <td>0</td>\n",
              "      <td>0</td>\n",
              "      <td>0</td>\n",
              "      <td>0</td>\n",
              "      <td>0</td>\n",
              "      <td>0</td>\n",
              "      <td>0</td>\n",
              "      <td>0</td>\n",
              "      <td>0</td>\n",
              "      <td>0</td>\n",
              "    </tr>\n",
              "    <tr>\n",
              "      <th>443</th>\n",
              "      <td>0</td>\n",
              "      <td>0</td>\n",
              "      <td>0</td>\n",
              "      <td>0</td>\n",
              "      <td>0</td>\n",
              "      <td>0</td>\n",
              "      <td>0</td>\n",
              "      <td>0</td>\n",
              "      <td>0</td>\n",
              "      <td>0</td>\n",
              "      <td>...</td>\n",
              "      <td>0</td>\n",
              "      <td>0</td>\n",
              "      <td>0</td>\n",
              "      <td>0</td>\n",
              "      <td>0</td>\n",
              "      <td>0</td>\n",
              "      <td>0</td>\n",
              "      <td>0</td>\n",
              "      <td>0</td>\n",
              "      <td>0</td>\n",
              "    </tr>\n",
              "    <tr>\n",
              "      <th>559</th>\n",
              "      <td>0</td>\n",
              "      <td>0</td>\n",
              "      <td>0</td>\n",
              "      <td>0</td>\n",
              "      <td>0</td>\n",
              "      <td>0</td>\n",
              "      <td>0</td>\n",
              "      <td>0</td>\n",
              "      <td>0</td>\n",
              "      <td>0</td>\n",
              "      <td>...</td>\n",
              "      <td>0</td>\n",
              "      <td>0</td>\n",
              "      <td>0</td>\n",
              "      <td>0</td>\n",
              "      <td>0</td>\n",
              "      <td>0</td>\n",
              "      <td>0</td>\n",
              "      <td>0</td>\n",
              "      <td>0</td>\n",
              "      <td>0</td>\n",
              "    </tr>\n",
              "  </tbody>\n",
              "</table>\n",
              "<p>1267 rows × 58579 columns</p>\n",
              "</div>\n",
              "      <button class=\"colab-df-convert\" onclick=\"convertToInteractive('df-2b14215c-afaa-488d-ab98-cfb71658398c')\"\n",
              "              title=\"Convert this dataframe to an interactive table.\"\n",
              "              style=\"display:none;\">\n",
              "        \n",
              "  <svg xmlns=\"http://www.w3.org/2000/svg\" height=\"24px\"viewBox=\"0 0 24 24\"\n",
              "       width=\"24px\">\n",
              "    <path d=\"M0 0h24v24H0V0z\" fill=\"none\"/>\n",
              "    <path d=\"M18.56 5.44l.94 2.06.94-2.06 2.06-.94-2.06-.94-.94-2.06-.94 2.06-2.06.94zm-11 1L8.5 8.5l.94-2.06 2.06-.94-2.06-.94L8.5 2.5l-.94 2.06-2.06.94zm10 10l.94 2.06.94-2.06 2.06-.94-2.06-.94-.94-2.06-.94 2.06-2.06.94z\"/><path d=\"M17.41 7.96l-1.37-1.37c-.4-.4-.92-.59-1.43-.59-.52 0-1.04.2-1.43.59L10.3 9.45l-7.72 7.72c-.78.78-.78 2.05 0 2.83L4 21.41c.39.39.9.59 1.41.59.51 0 1.02-.2 1.41-.59l7.78-7.78 2.81-2.81c.8-.78.8-2.07 0-2.86zM5.41 20L4 18.59l7.72-7.72 1.47 1.35L5.41 20z\"/>\n",
              "  </svg>\n",
              "      </button>\n",
              "      \n",
              "  <style>\n",
              "    .colab-df-container {\n",
              "      display:flex;\n",
              "      flex-wrap:wrap;\n",
              "      gap: 12px;\n",
              "    }\n",
              "\n",
              "    .colab-df-convert {\n",
              "      background-color: #E8F0FE;\n",
              "      border: none;\n",
              "      border-radius: 50%;\n",
              "      cursor: pointer;\n",
              "      display: none;\n",
              "      fill: #1967D2;\n",
              "      height: 32px;\n",
              "      padding: 0 0 0 0;\n",
              "      width: 32px;\n",
              "    }\n",
              "\n",
              "    .colab-df-convert:hover {\n",
              "      background-color: #E2EBFA;\n",
              "      box-shadow: 0px 1px 2px rgba(60, 64, 67, 0.3), 0px 1px 3px 1px rgba(60, 64, 67, 0.15);\n",
              "      fill: #174EA6;\n",
              "    }\n",
              "\n",
              "    [theme=dark] .colab-df-convert {\n",
              "      background-color: #3B4455;\n",
              "      fill: #D2E3FC;\n",
              "    }\n",
              "\n",
              "    [theme=dark] .colab-df-convert:hover {\n",
              "      background-color: #434B5C;\n",
              "      box-shadow: 0px 1px 3px 1px rgba(0, 0, 0, 0.15);\n",
              "      filter: drop-shadow(0px 1px 2px rgba(0, 0, 0, 0.3));\n",
              "      fill: #FFFFFF;\n",
              "    }\n",
              "  </style>\n",
              "\n",
              "      <script>\n",
              "        const buttonEl =\n",
              "          document.querySelector('#df-2b14215c-afaa-488d-ab98-cfb71658398c button.colab-df-convert');\n",
              "        buttonEl.style.display =\n",
              "          google.colab.kernel.accessAllowed ? 'block' : 'none';\n",
              "\n",
              "        async function convertToInteractive(key) {\n",
              "          const element = document.querySelector('#df-2b14215c-afaa-488d-ab98-cfb71658398c');\n",
              "          const dataTable =\n",
              "            await google.colab.kernel.invokeFunction('convertToInteractive',\n",
              "                                                     [key], {});\n",
              "          if (!dataTable) return;\n",
              "\n",
              "          const docLinkHtml = 'Like what you see? Visit the ' +\n",
              "            '<a target=\"_blank\" href=https://colab.research.google.com/notebooks/data_table.ipynb>data table notebook</a>'\n",
              "            + ' to learn more about interactive tables.';\n",
              "          element.innerHTML = '';\n",
              "          dataTable['output_type'] = 'display_data';\n",
              "          await google.colab.output.renderOutput(dataTable, element);\n",
              "          const docLink = document.createElement('div');\n",
              "          docLink.innerHTML = docLinkHtml;\n",
              "          element.appendChild(docLink);\n",
              "        }\n",
              "      </script>\n",
              "    </div>\n",
              "  </div>\n",
              "  "
            ]
          },
          "metadata": {},
          "execution_count": 17
        }
      ]
    },
    {
      "cell_type": "code",
      "source": [
        "y_train"
      ],
      "metadata": {
        "colab": {
          "base_uri": "https://localhost:8080/"
        },
        "id": "L46FOG6cvMq6",
        "outputId": "d98717c5-89c9-450c-a38b-49f1361f68c9"
      },
      "execution_count": 18,
      "outputs": [
        {
          "output_type": "execute_result",
          "data": {
            "text/plain": [
              "array([12, 15, 15, ..., 15, 11, 10])"
            ]
          },
          "metadata": {},
          "execution_count": 18
        }
      ]
    },
    {
      "cell_type": "markdown",
      "source": [
        ""
      ],
      "metadata": {
        "id": "ZfRtjeg3vRO_"
      }
    },
    {
      "cell_type": "markdown",
      "source": [
        "# Machine Learning model\n",
        "\n",
        "Here we use teh Multinomial Naive Bayes Model to train the model"
      ],
      "metadata": {
        "id": "Fo_szL4uTHfY"
      }
    },
    {
      "cell_type": "code",
      "source": [
        "# Train the model \n",
        "from sklearn.naive_bayes import MultinomialNB\n",
        "\n",
        "model = MultinomialNB()\n",
        "model.fit(X_train, y_train)"
      ],
      "metadata": {
        "colab": {
          "base_uri": "https://localhost:8080/"
        },
        "id": "oeZE7tymvSZU",
        "outputId": "56f0d806-31aa-4325-de82-ac0b793e85ee"
      },
      "execution_count": 19,
      "outputs": [
        {
          "output_type": "execute_result",
          "data": {
            "text/plain": [
              "MultinomialNB()"
            ]
          },
          "metadata": {},
          "execution_count": 19
        }
      ]
    },
    {
      "cell_type": "code",
      "source": [
        "#predict the X_test\n",
        "prediction = model.predict(X_test)\n",
        "prediction"
      ],
      "metadata": {
        "colab": {
          "base_uri": "https://localhost:8080/"
        },
        "id": "q7yc8Dc32XN8",
        "outputId": "9a87e4e1-a8a9-45b8-c508-7cc4048c0853"
      },
      "execution_count": 20,
      "outputs": [
        {
          "output_type": "execute_result",
          "data": {
            "text/plain": [
              "array([15, 14, 10,  9, 15, 14,  8, 13,  3, 13,  7,  4, 12,  3, 14,  8,  1,\n",
              "        4,  9,  8,  5,  4, 14, 15,  2,  2,  1,  7, 11,  5,  9,  7,  9,  3,\n",
              "        7,  3,  7,  2,  1,  1, 14,  2,  1,  5,  1, 11,  3, 15, 14,  5, 13,\n",
              "       15,  1,  8, 10,  9,  4,  5, 11, 13,  8,  0,  8, 15, 10,  7, 11,  4,\n",
              "       11,  2, 10,  3, 13,  8, 15,  5,  4, 12,  2,  3, 13,  1, 10,  4,  4,\n",
              "        7, 15, 15, 11,  4, 11,  3, 15,  4, 15,  2, 14, 11,  5,  9,  3,  1,\n",
              "       13,  8, 13, 14, 11, 13, 10, 12,  8,  9, 11, 13, 10,  2,  1,  3,  1,\n",
              "       10, 13,  8, 10, 11,  8, 10,  2, 15,  7,  4,  5, 14,  2,  7,  9, 13,\n",
              "       12, 14,  8, 10, 14])"
            ]
          },
          "metadata": {},
          "execution_count": 20
        }
      ]
    },
    {
      "cell_type": "markdown",
      "source": [
        "# Test the model\n",
        "\n",
        "Test the model and print the accuracy of the created machine learning model"
      ],
      "metadata": {
        "id": "R9Fsz24l3UrD"
      }
    },
    {
      "cell_type": "code",
      "source": [
        "#print the actual label to compare with the prediction\n",
        "y_test"
      ],
      "metadata": {
        "colab": {
          "base_uri": "https://localhost:8080/"
        },
        "id": "OkN8LyNe2Yid",
        "outputId": "e7de1187-7325-4b77-ab43-bbd9e5ab916f"
      },
      "execution_count": 21,
      "outputs": [
        {
          "output_type": "execute_result",
          "data": {
            "text/plain": [
              "array([15, 14, 10,  9,  3, 14,  8, 13,  3,  6, 12,  4, 12,  3, 14,  8,  1,\n",
              "        4,  9,  8,  5,  4, 14,  5,  7,  2, 12,  7, 11,  5,  9,  7,  9,  0,\n",
              "        7,  3,  7,  2,  1,  1, 14,  2,  1,  5,  1, 11,  3, 15, 14,  5, 13,\n",
              "       15,  1, 15,  6,  9,  4,  5, 11, 13,  8,  0,  8, 15, 10,  7, 11,  4,\n",
              "       11,  2, 10,  3, 13,  8, 15,  5,  4, 12,  2,  3, 13,  1, 10,  4,  4,\n",
              "        7, 15, 15,  2,  4, 12,  3, 15,  4, 15,  2, 14, 11,  5,  9,  3,  1,\n",
              "       13,  1, 13, 14, 11, 10, 10, 12,  8,  9, 11, 13, 10, 12,  1,  3,  1,\n",
              "        7, 13,  8, 10, 11,  8, 10,  2, 15,  7,  4,  5, 14,  2,  7,  9, 13,\n",
              "       12, 14,  8, 10, 14])"
            ]
          },
          "metadata": {},
          "execution_count": 21
        }
      ]
    },
    {
      "cell_type": "code",
      "source": [
        "#print the training accuracy and the testing accuracy\n",
        "from sklearn.metrics import accuracy_score\n",
        "\n",
        "print('The mode training accuracy:', round(accuracy_score(y_train, model.predict(X_train)),5))\n",
        "print('The model Testing accuracy:', round(accuracy_score(y_test, prediction),5))"
      ],
      "metadata": {
        "colab": {
          "base_uri": "https://localhost:8080/"
        },
        "id": "imcZ9HNM2gYT",
        "outputId": "5422150a-d76f-46fc-9af2-3fe53649262b"
      },
      "execution_count": 22,
      "outputs": [
        {
          "output_type": "stream",
          "name": "stdout",
          "text": [
            "The mode training accuracy: 0.97948\n",
            "The model Testing accuracy: 0.89362\n"
          ]
        }
      ]
    },
    {
      "cell_type": "code",
      "source": [
        "#create the confusion matrix visualization to evaluate machine learning model performance and accuracy\n",
        "from sklearn.metrics import confusion_matrix\n",
        "import matplotlib.pyplot as plt\n",
        "import seaborn as sns\n",
        "\n",
        "confusion_matrix(y_test, model.predict(X_test))\n",
        "\n",
        "\n",
        "sns.heatmap(confusion_matrix(y_test, model.predict(X_test)).T, square=False, annot=True, fmt='d', cbar=False\n",
        "            ,xticklabels=dataset.Category.unique(),\n",
        "            yticklabels=dataset.Category.unique()\n",
        "           )\n",
        "plt.xlabel('true label')\n",
        "plt.ylabel('predicted label');"
      ],
      "metadata": {
        "id": "NTa8I1kh5L32",
        "outputId": "58e0dd1e-6372-4ddc-f2db-f3b44a0f2a8d",
        "colab": {
          "base_uri": "https://localhost:8080/",
          "height": 438
        }
      },
      "execution_count": 24,
      "outputs": [
        {
          "output_type": "display_data",
          "data": {
            "text/plain": [
              "<Figure size 432x288 with 1 Axes>"
            ],
            "image/png": "[encoded data removed]"
          },
          "metadata": {
            "needs_background": "light"
          }
        }
      ]
    },
    {
      "cell_type": "code",
      "source": [
        "#Test the created model\n",
        "import numpy as np\n",
        "new_text = np.array([\"She is very hot and sexy\"])\n",
        "\n",
        "new_vector = countvectorizer.transform(new_text)\n",
        "print(le.inverse_transform(model.predict(new_vector)))"
      ],
      "metadata": {
        "colab": {
          "base_uri": "https://localhost:8080/"
        },
        "id": "gtELcW812o6O",
        "outputId": "12558bf7-b2f7-4be9-ef18-ebf9155cf022"
      },
      "execution_count": 25,
      "outputs": [
        {
          "output_type": "stream",
          "name": "stdout",
          "text": [
            "['Adult']\n"
          ]
        },
        {
          "output_type": "stream",
          "name": "stderr",
          "text": [
            "/usr/local/lib/python3.7/dist-packages/sklearn/base.py:451: UserWarning: X does not have valid feature names, but MultinomialNB was fitted with feature names\n",
            "  \"X does not have valid feature names, but\"\n"
          ]
        }
      ]
    },
    {
      "cell_type": "markdown",
      "source": [
        "# Other Classification Algorithms\n",
        "Evaluate the classification on other machine learning classification algorithms"
      ],
      "metadata": {
        "id": "maUhq0tNyZ1J"
      }
    },
    {
      "cell_type": "code",
      "source": [
        "#Random Forest Classifier ML Algorithm\n",
        "from sklearn.ensemble import RandomForestClassifier\n",
        "rfc=RandomForestClassifier()\n",
        "rfc.fit(X_train,y_train)"
      ],
      "metadata": {
        "colab": {
          "base_uri": "https://localhost:8080/"
        },
        "id": "47lnbAowhzLz",
        "outputId": "8d2c23d4-d9a3-4d32-b036-ee13ac67ca5e"
      },
      "execution_count": 26,
      "outputs": [
        {
          "output_type": "execute_result",
          "data": {
            "text/plain": [
              "RandomForestClassifier()"
            ]
          },
          "metadata": {},
          "execution_count": 26
        }
      ]
    },
    {
      "cell_type": "code",
      "source": [
        "#print the testing and training accuracy\n",
        "prediction = rfc.predict(X_test)\n",
        "print('The mode training accuracy:', round(accuracy_score(y_train, rfc.predict(X_train)),5))\n",
        "print('The model Testing accuracy:', round(accuracy_score(y_test, prediction),5))"
      ],
      "metadata": {
        "colab": {
          "base_uri": "https://localhost:8080/"
        },
        "id": "SvDAXvJSiVGB",
        "outputId": "71760c11-8204-40d5-c22f-387e4bf6f5ef"
      },
      "execution_count": 27,
      "outputs": [
        {
          "output_type": "stream",
          "name": "stdout",
          "text": [
            "The mode training accuracy: 1.0\n",
            "The model Testing accuracy: 0.80142\n"
          ]
        }
      ]
    },
    {
      "cell_type": "code",
      "source": [
        "#train the Gaussian Naive Bayes Model\n",
        "from sklearn.naive_bayes import GaussianNB\n",
        "gnb = GaussianNB()\n",
        "gnb.fit(X_train,y_train)"
      ],
      "metadata": {
        "colab": {
          "base_uri": "https://localhost:8080/"
        },
        "id": "fUrcYGhUjbLC",
        "outputId": "ab696c64-0809-41ba-a089-1b64bc737a3e"
      },
      "execution_count": 28,
      "outputs": [
        {
          "output_type": "execute_result",
          "data": {
            "text/plain": [
              "GaussianNB()"
            ]
          },
          "metadata": {},
          "execution_count": 28
        }
      ]
    },
    {
      "cell_type": "code",
      "source": [
        "#print the testing and training accuracy of the Gaussian Naive Bayes Model\n",
        "prediction = gnb.predict(X_test)\n",
        "print('The mode training accuracy:', round(accuracy_score(y_train, gnb.predict(X_train)),5))\n",
        "print('The model Testing accuracy:', round(accuracy_score(y_test, prediction),5))"
      ],
      "metadata": {
        "colab": {
          "base_uri": "https://localhost:8080/"
        },
        "id": "2ruBH9oDjcDg",
        "outputId": "d8355b67-666a-479c-de4b-bd65f64ba154"
      },
      "execution_count": 29,
      "outputs": [
        {
          "output_type": "stream",
          "name": "stdout",
          "text": [
            "The mode training accuracy: 0.99369\n",
            "The model Testing accuracy: 0.61702\n"
          ]
        }
      ]
    },
    {
      "cell_type": "code",
      "source": [
        "#train the Linear Support Vector Classifier ML model\n",
        "from sklearn.svm import LinearSVC\n",
        "svc=LinearSVC()\n",
        "svc.fit(X_train,y_train)"
      ],
      "metadata": {
        "colab": {
          "base_uri": "https://localhost:8080/"
        },
        "id": "WG9osXpMh6YE",
        "outputId": "e0fc5998-9348-4237-dc19-93847981001e"
      },
      "execution_count": 32,
      "outputs": [
        {
          "output_type": "stream",
          "name": "stderr",
          "text": [
            "/usr/local/lib/python3.7/dist-packages/sklearn/svm/_base.py:1208: ConvergenceWarning: Liblinear failed to converge, increase the number of iterations.\n",
            "  ConvergenceWarning,\n"
          ]
        },
        {
          "output_type": "execute_result",
          "data": {
            "text/plain": [
              "LinearSVC()"
            ]
          },
          "metadata": {},
          "execution_count": 32
        }
      ]
    },
    {
      "cell_type": "code",
      "source": [
        "#print the testing and training accuracy of the Linear Support Vector Classifier\n",
        "prediction = svc.predict(X_test)\n",
        "print('The mode training accuracy:', round(accuracy_score(y_train, svc.predict(X_train)),5))\n",
        "print('The model Testing accuracy:', round(accuracy_score(y_test, prediction),5))"
      ],
      "metadata": {
        "colab": {
          "base_uri": "https://localhost:8080/"
        },
        "id": "N0PhP7Fnigds",
        "outputId": "cb2127fd-7b99-493b-c81f-c1085fcf3d44"
      },
      "execution_count": 33,
      "outputs": [
        {
          "output_type": "stream",
          "name": "stdout",
          "text": [
            "The mode training accuracy: 1.0\n",
            "The model Testing accuracy: 0.82979\n"
          ]
        }
      ]
    },
    {
      "cell_type": "code",
      "source": [
        "# import the regressor\n",
        "from sklearn.tree import DecisionTreeRegressor \n",
        "  \n",
        "# create a regressor object and train the model\n",
        "regressor = DecisionTreeRegressor() \n",
        "regressor.fit(X_train, y_train)"
      ],
      "metadata": {
        "id": "WipEI0ShIIy7",
        "outputId": "54739614-53c9-4649-de77-3d4e8266ba60",
        "colab": {
          "base_uri": "https://localhost:8080/"
        }
      },
      "execution_count": 37,
      "outputs": [
        {
          "output_type": "execute_result",
          "data": {
            "text/plain": [
              "DecisionTreeRegressor()"
            ]
          },
          "metadata": {},
          "execution_count": 37
        }
      ]
    },
    {
      "cell_type": "code",
      "source": [
        "#print the testing and training accuracy of the Decision Tree Regressor Algorithm\n",
        "prediction = regressor.predict(X_test)\n",
        "print('The mode training accuracy:', round(accuracy_score(y_train, regressor.predict(X_train)),5))\n",
        "print('The model Testing accuracy:', round(accuracy_score(y_test, prediction),5))"
      ],
      "metadata": {
        "id": "BFQoTnlkIRRS",
        "outputId": "8aed4033-263d-49a2-f700-5241e2173bae",
        "colab": {
          "base_uri": "https://localhost:8080/"
        }
      },
      "execution_count": 38,
      "outputs": [
        {
          "output_type": "stream",
          "name": "stdout",
          "text": [
            "The mode training accuracy: 1.0\n",
            "The model Testing accuracy: 0.5461\n"
          ]
        }
      ]
    },
    {
      "cell_type": "code",
      "source": [
        "#train the K- Nearest Neighbor algorithm : https://www.datacamp.com/community/tutorials/k-nearest-neighbor-classification-scikit-learn\n",
        "from sklearn.neighbors import KNeighborsClassifier\n",
        "neigh = KNeighborsClassifier(n_neighbors=5, metric='minkowski', p=16)\n",
        "neigh.fit(X_train, y_train)"
      ],
      "metadata": {
        "id": "qVirxrbJIjv4",
        "outputId": "ff545f5d-cd17-4426-88f7-9794089ac288",
        "colab": {
          "base_uri": "https://localhost:8080/"
        }
      },
      "execution_count": 52,
      "outputs": [
        {
          "output_type": "execute_result",
          "data": {
            "text/plain": [
              "KNeighborsClassifier(p=16)"
            ]
          },
          "metadata": {},
          "execution_count": 52
        }
      ]
    },
    {
      "cell_type": "code",
      "source": [
        "#print the testing and training accuracy of the K-Nearest Neighbor Classifier Algorithm\n",
        "prediction = neigh.predict(X_test)\n",
        "print('The mode training accuracy:', round(accuracy_score(y_train, neigh.predict(X_train)),5))\n",
        "print('The model Testing accuracy:', round(accuracy_score(y_test, prediction),5))"
      ],
      "metadata": {
        "id": "jfWH--JSI4po"
      },
      "execution_count": null,
      "outputs": []
    },
    {
      "cell_type": "code",
      "source": [
        "#train a Logistic Regression model for the classification\n",
        "from sklearn import linear_model\n",
        "LRG = linear_model.LogisticRegression(random_state = 0,solver = 'liblinear', multi_class='auto')\n",
        "LRG.fit(X_train, y_train)"
      ],
      "metadata": {
        "id": "j67f2jfEKKXe",
        "outputId": "9f3b3863-2642-4294-cf02-870f1ca8c30a",
        "colab": {
          "base_uri": "https://localhost:8080/"
        }
      },
      "execution_count": 46,
      "outputs": [
        {
          "output_type": "execute_result",
          "data": {
            "text/plain": [
              "LogisticRegression(random_state=0, solver='liblinear')"
            ]
          },
          "metadata": {},
          "execution_count": 46
        }
      ]
    },
    {
      "cell_type": "code",
      "source": [
        "#print the testing and training accuracy of the Logistic Regression model\n",
        "prediction = LRG.predict(X_test)\n",
        "print('The mode training accuracy:', round(accuracy_score(y_train, LRG.predict(X_train)),5))\n",
        "print('The model Testing accuracy:', round(accuracy_score(y_test, prediction),5))"
      ],
      "metadata": {
        "id": "78hjdcghKr67",
        "outputId": "65bb6616-abc2-4308-b423-a8e0c1d7a492",
        "colab": {
          "base_uri": "https://localhost:8080/"
        }
      },
      "execution_count": 47,
      "outputs": [
        {
          "output_type": "stream",
          "name": "stdout",
          "text": [
            "The mode training accuracy: 1.0\n",
            "The model Testing accuracy: 0.89362\n"
          ]
        }
      ]
    },
    {
      "cell_type": "code",
      "source": [
        "#cross validation based accuracy checking\n",
        "from sklearn.model_selection import cross_val_score \n",
        "\n",
        "print(cross_val_score(KNeighborsClassifier(), X_train, y_train, cv=5, scoring=\"accuracy\").mean)\n",
        "print(cross_val_score(DecisionTreeRegressor() , X_train, y_train, cv=5, scoring=\"accuracy\"))\n",
        "print(cross_val_score(linear_model.LogisticRegression(random_state = 0,solver = 'liblinear', multi_class='auto'), X_train, y_train, cv=5, scoring=\"accuracy\"))\n",
        "print(cross_val_score(LinearSVC(), X_train, y_train, cv=5, scoring=\"accuracy\"))\n",
        "print(cross_val_score(GaussianNB(), X_train, y_train, cv=5, scoring=\"accuracy\"))\n",
        "print(cross_val_score(MultinomialNB(), X_train, y_train, cv=5, scoring=\"accuracy\"))"
      ],
      "metadata": {
        "id": "yRGluNqTLTxh",
        "outputId": "f56f584a-70e2-4cba-a2a4-e9e05b22fedf",
        "colab": {
          "base_uri": "https://localhost:8080/"
        }
      },
      "execution_count": 50,
      "outputs": [
        {
          "output_type": "stream",
          "name": "stdout",
          "text": [
            "<built-in method mean of numpy.ndarray object at 0x7f71741d7cf0>\n",
            "[0.5        0.5511811  0.51383399 0.50197628 0.43083004]\n",
            "[0.89370079 0.87401575 0.91304348 0.86166008 0.88142292]\n"
          ]
        },
        {
          "output_type": "stream",
          "name": "stderr",
          "text": [
            "/usr/local/lib/python3.7/dist-packages/sklearn/svm/_base.py:1208: ConvergenceWarning: Liblinear failed to converge, increase the number of iterations.\n",
            "  ConvergenceWarning,\n",
            "/usr/local/lib/python3.7/dist-packages/sklearn/svm/_base.py:1208: ConvergenceWarning: Liblinear failed to converge, increase the number of iterations.\n",
            "  ConvergenceWarning,\n",
            "/usr/local/lib/python3.7/dist-packages/sklearn/svm/_base.py:1208: ConvergenceWarning: Liblinear failed to converge, increase the number of iterations.\n",
            "  ConvergenceWarning,\n",
            "/usr/local/lib/python3.7/dist-packages/sklearn/svm/_base.py:1208: ConvergenceWarning: Liblinear failed to converge, increase the number of iterations.\n",
            "  ConvergenceWarning,\n",
            "/usr/local/lib/python3.7/dist-packages/sklearn/svm/_base.py:1208: ConvergenceWarning: Liblinear failed to converge, increase the number of iterations.\n",
            "  ConvergenceWarning,\n"
          ]
        },
        {
          "output_type": "stream",
          "name": "stdout",
          "text": [
            "[0.80314961 0.82283465 0.82608696 0.79841897 0.79051383]\n",
            "[0.63779528 0.65354331 0.66798419 0.70750988 0.65217391]\n",
            "[0.88976378 0.87795276 0.88142292 0.90118577 0.87351779]\n"
          ]
        }
      ]
    },
    {
      "cell_type": "code",
      "source": [
        ""
      ],
      "metadata": {
        "id": "jEM8PcHlSTjG"
      },
      "execution_count": 51,
      "outputs": []
    },
    {
      "cell_type": "code",
      "source": [
        ""
      ],
      "metadata": {
        "id": "Rzj8yRpxSWMQ"
      },
      "execution_count": null,
      "outputs": []
    }
  ]
}